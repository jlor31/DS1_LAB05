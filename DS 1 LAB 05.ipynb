{
 "cells": [
  {
   "cell_type": "markdown",
   "id": "e5b09481",
   "metadata": {},
   "source": [
    "# DS 1 - LABORATORIO 05\n",
    "\n",
    "### Juan Lorthiois       -  18771\n",
    "### Roberto Castillo    -  18546\n",
    "### Alexis Estrada       -  181099"
   ]
  },
  {
   "cell_type": "markdown",
   "id": "5655c69e",
   "metadata": {},
   "source": [
    "#### Incisos 1 a 3:\n",
    "\n",
    "A continuacion se importan los datos, y se inicia con la limpieza de los mismos en preparación para el EDA y la aplicacion del agoritmo clasificador."
   ]
  },
  {
   "cell_type": "markdown",
   "id": "5b3185b1",
   "metadata": {},
   "source": [
    "#### Importacion de librerías e importación de los datos como DataFrame de Pandas"
   ]
  },
  {
   "cell_type": "code",
   "execution_count": 308,
   "id": "a10c16a5",
   "metadata": {},
   "outputs": [
    {
     "name": "stderr",
     "output_type": "stream",
     "text": [
      "[nltk_data] Downloading package punkt to\n",
      "[nltk_data]     C:\\Users\\jlort\\AppData\\Roaming\\nltk_data...\n",
      "[nltk_data]   Package punkt is already up-to-date!\n",
      "[nltk_data] Downloading package stopwords to\n",
      "[nltk_data]     C:\\Users\\jlort\\AppData\\Roaming\\nltk_data...\n",
      "[nltk_data]   Package stopwords is already up-to-date!\n"
     ]
    }
   ],
   "source": [
    "# Importando librerias\n",
    "\n",
    "import pandas as pd\n",
    "\n",
    "import matplotlib.pyplot as plt\n",
    "from matplotlib.pyplot import figure\n",
    "from tensorflow.keras.preprocessing.text import Tokenizer\n",
    "import numpy as np\n",
    "import re\n",
    "import tensorflow as tf\n",
    "from tensorflow.keras.preprocessing import sequence\n",
    "from tensorflow.keras.models import Sequential\n",
    "from tensorflow.keras.layers import Dense, Embedding\n",
    "from tensorflow.keras.layers import LSTM\n",
    "from tensorflow.keras.datasets import imdb\n",
    "from nltk.corpus import stopwords\n",
    "import nltk\n",
    "nltk.download('punkt')\n",
    "nltk.download('stopwords')\n",
    "from nltk.tokenize import word_tokenize\n",
    "stop_words = stopwords.words('english')"
   ]
  },
  {
   "cell_type": "code",
   "execution_count": 309,
   "id": "7b5c7e9b",
   "metadata": {},
   "outputs": [],
   "source": [
    "#Importando los datos\n",
    "Df = pd.read_csv(\"train.csv\")"
   ]
  },
  {
   "cell_type": "code",
   "execution_count": 310,
   "id": "d37208d6",
   "metadata": {},
   "outputs": [
    {
     "data": {
      "text/html": [
       "<div>\n",
       "<style scoped>\n",
       "    .dataframe tbody tr th:only-of-type {\n",
       "        vertical-align: middle;\n",
       "    }\n",
       "\n",
       "    .dataframe tbody tr th {\n",
       "        vertical-align: top;\n",
       "    }\n",
       "\n",
       "    .dataframe thead th {\n",
       "        text-align: right;\n",
       "    }\n",
       "</style>\n",
       "<table border=\"1\" class=\"dataframe\">\n",
       "  <thead>\n",
       "    <tr style=\"text-align: right;\">\n",
       "      <th></th>\n",
       "      <th>id</th>\n",
       "      <th>keyword</th>\n",
       "      <th>location</th>\n",
       "      <th>text</th>\n",
       "      <th>target</th>\n",
       "    </tr>\n",
       "  </thead>\n",
       "  <tbody>\n",
       "    <tr>\n",
       "      <th>0</th>\n",
       "      <td>1</td>\n",
       "      <td>NaN</td>\n",
       "      <td>NaN</td>\n",
       "      <td>Our Deeds are the Reason of this #earthquake M...</td>\n",
       "      <td>1</td>\n",
       "    </tr>\n",
       "    <tr>\n",
       "      <th>1</th>\n",
       "      <td>4</td>\n",
       "      <td>NaN</td>\n",
       "      <td>NaN</td>\n",
       "      <td>Forest fire near La Ronge Sask. Canada</td>\n",
       "      <td>1</td>\n",
       "    </tr>\n",
       "    <tr>\n",
       "      <th>2</th>\n",
       "      <td>5</td>\n",
       "      <td>NaN</td>\n",
       "      <td>NaN</td>\n",
       "      <td>All residents asked to 'shelter in place' are ...</td>\n",
       "      <td>1</td>\n",
       "    </tr>\n",
       "    <tr>\n",
       "      <th>3</th>\n",
       "      <td>6</td>\n",
       "      <td>NaN</td>\n",
       "      <td>NaN</td>\n",
       "      <td>13,000 people receive #wildfires evacuation or...</td>\n",
       "      <td>1</td>\n",
       "    </tr>\n",
       "    <tr>\n",
       "      <th>4</th>\n",
       "      <td>7</td>\n",
       "      <td>NaN</td>\n",
       "      <td>NaN</td>\n",
       "      <td>Just got sent this photo from Ruby #Alaska as ...</td>\n",
       "      <td>1</td>\n",
       "    </tr>\n",
       "    <tr>\n",
       "      <th>5</th>\n",
       "      <td>8</td>\n",
       "      <td>NaN</td>\n",
       "      <td>NaN</td>\n",
       "      <td>#RockyFire Update =&gt; California Hwy. 20 closed...</td>\n",
       "      <td>1</td>\n",
       "    </tr>\n",
       "    <tr>\n",
       "      <th>6</th>\n",
       "      <td>10</td>\n",
       "      <td>NaN</td>\n",
       "      <td>NaN</td>\n",
       "      <td>#flood #disaster Heavy rain causes flash flood...</td>\n",
       "      <td>1</td>\n",
       "    </tr>\n",
       "    <tr>\n",
       "      <th>7</th>\n",
       "      <td>13</td>\n",
       "      <td>NaN</td>\n",
       "      <td>NaN</td>\n",
       "      <td>I'm on top of the hill and I can see a fire in...</td>\n",
       "      <td>1</td>\n",
       "    </tr>\n",
       "    <tr>\n",
       "      <th>8</th>\n",
       "      <td>14</td>\n",
       "      <td>NaN</td>\n",
       "      <td>NaN</td>\n",
       "      <td>There's an emergency evacuation happening now ...</td>\n",
       "      <td>1</td>\n",
       "    </tr>\n",
       "    <tr>\n",
       "      <th>9</th>\n",
       "      <td>15</td>\n",
       "      <td>NaN</td>\n",
       "      <td>NaN</td>\n",
       "      <td>I'm afraid that the tornado is coming to our a...</td>\n",
       "      <td>1</td>\n",
       "    </tr>\n",
       "  </tbody>\n",
       "</table>\n",
       "</div>"
      ],
      "text/plain": [
       "   id keyword location                                               text  \\\n",
       "0   1     NaN      NaN  Our Deeds are the Reason of this #earthquake M...   \n",
       "1   4     NaN      NaN             Forest fire near La Ronge Sask. Canada   \n",
       "2   5     NaN      NaN  All residents asked to 'shelter in place' are ...   \n",
       "3   6     NaN      NaN  13,000 people receive #wildfires evacuation or...   \n",
       "4   7     NaN      NaN  Just got sent this photo from Ruby #Alaska as ...   \n",
       "5   8     NaN      NaN  #RockyFire Update => California Hwy. 20 closed...   \n",
       "6  10     NaN      NaN  #flood #disaster Heavy rain causes flash flood...   \n",
       "7  13     NaN      NaN  I'm on top of the hill and I can see a fire in...   \n",
       "8  14     NaN      NaN  There's an emergency evacuation happening now ...   \n",
       "9  15     NaN      NaN  I'm afraid that the tornado is coming to our a...   \n",
       "\n",
       "   target  \n",
       "0       1  \n",
       "1       1  \n",
       "2       1  \n",
       "3       1  \n",
       "4       1  \n",
       "5       1  \n",
       "6       1  \n",
       "7       1  \n",
       "8       1  \n",
       "9       1  "
      ]
     },
     "execution_count": 310,
     "metadata": {},
     "output_type": "execute_result"
    }
   ],
   "source": [
    "Df.head(10)"
   ]
  },
  {
   "cell_type": "code",
   "execution_count": 311,
   "id": "31ab1db7",
   "metadata": {},
   "outputs": [
    {
     "data": {
      "text/plain": [
       "id             0\n",
       "keyword       61\n",
       "location    2533\n",
       "text           0\n",
       "target         0\n",
       "dtype: int64"
      ]
     },
     "execution_count": 311,
     "metadata": {},
     "output_type": "execute_result"
    }
   ],
   "source": [
    "Df.isna().sum()  #encontrar columnas que tienen Nas."
   ]
  },
  {
   "cell_type": "code",
   "execution_count": 312,
   "id": "efa92d36",
   "metadata": {},
   "outputs": [
    {
     "data": {
      "text/html": [
       "<div>\n",
       "<style scoped>\n",
       "    .dataframe tbody tr th:only-of-type {\n",
       "        vertical-align: middle;\n",
       "    }\n",
       "\n",
       "    .dataframe tbody tr th {\n",
       "        vertical-align: top;\n",
       "    }\n",
       "\n",
       "    .dataframe thead th {\n",
       "        text-align: right;\n",
       "    }\n",
       "</style>\n",
       "<table border=\"1\" class=\"dataframe\">\n",
       "  <thead>\n",
       "    <tr style=\"text-align: right;\">\n",
       "      <th></th>\n",
       "      <th>id</th>\n",
       "      <th>keyword</th>\n",
       "      <th>location</th>\n",
       "      <th>text</th>\n",
       "      <th>target</th>\n",
       "    </tr>\n",
       "  </thead>\n",
       "  <tbody>\n",
       "    <tr>\n",
       "      <th>7608</th>\n",
       "      <td>10869</td>\n",
       "      <td>NaN</td>\n",
       "      <td>NaN</td>\n",
       "      <td>Two giant cranes holding a bridge collapse int...</td>\n",
       "      <td>1</td>\n",
       "    </tr>\n",
       "    <tr>\n",
       "      <th>7609</th>\n",
       "      <td>10870</td>\n",
       "      <td>NaN</td>\n",
       "      <td>NaN</td>\n",
       "      <td>@aria_ahrary @TheTawniest The out of control w...</td>\n",
       "      <td>1</td>\n",
       "    </tr>\n",
       "    <tr>\n",
       "      <th>7610</th>\n",
       "      <td>10871</td>\n",
       "      <td>NaN</td>\n",
       "      <td>NaN</td>\n",
       "      <td>M1.94 [01:04 UTC]?5km S of Volcano Hawaii. htt...</td>\n",
       "      <td>1</td>\n",
       "    </tr>\n",
       "    <tr>\n",
       "      <th>7611</th>\n",
       "      <td>10872</td>\n",
       "      <td>NaN</td>\n",
       "      <td>NaN</td>\n",
       "      <td>Police investigating after an e-bike collided ...</td>\n",
       "      <td>1</td>\n",
       "    </tr>\n",
       "    <tr>\n",
       "      <th>7612</th>\n",
       "      <td>10873</td>\n",
       "      <td>NaN</td>\n",
       "      <td>NaN</td>\n",
       "      <td>The Latest: More Homes Razed by Northern Calif...</td>\n",
       "      <td>1</td>\n",
       "    </tr>\n",
       "  </tbody>\n",
       "</table>\n",
       "</div>"
      ],
      "text/plain": [
       "         id keyword location  \\\n",
       "7608  10869     NaN      NaN   \n",
       "7609  10870     NaN      NaN   \n",
       "7610  10871     NaN      NaN   \n",
       "7611  10872     NaN      NaN   \n",
       "7612  10873     NaN      NaN   \n",
       "\n",
       "                                                   text  target  \n",
       "7608  Two giant cranes holding a bridge collapse int...       1  \n",
       "7609  @aria_ahrary @TheTawniest The out of control w...       1  \n",
       "7610  M1.94 [01:04 UTC]?5km S of Volcano Hawaii. htt...       1  \n",
       "7611  Police investigating after an e-bike collided ...       1  \n",
       "7612  The Latest: More Homes Razed by Northern Calif...       1  "
      ]
     },
     "execution_count": 312,
     "metadata": {},
     "output_type": "execute_result"
    }
   ],
   "source": [
    "Df.tail()"
   ]
  },
  {
   "cell_type": "markdown",
   "id": "1d1194f4",
   "metadata": {},
   "source": [
    "### Ideas preliminares:\n",
    "\n",
    "Acabamos de ver que hay Nas, sin embargo la mayoría se concentran en a variable \"location\". Antes de decidir cómo resolver este inconveniente, se trabajará primero en limpiar los \"tweets\" mostrados en la variable \"text\". Posteriormente a este data cleaning, se procederá a decidir si se preservan o no las variables \"location\" y \"keyword\"."
   ]
  },
  {
   "cell_type": "markdown",
   "id": "5a290416",
   "metadata": {},
   "source": [
    "#### Limpieza de Tweets"
   ]
  },
  {
   "cell_type": "code",
   "execution_count": 313,
   "id": "8fcdf64b",
   "metadata": {},
   "outputs": [],
   "source": [
    "#preparamos una funcion que se encargue de limpiar cada tweet\n",
    "\n",
    "def Tweet_prep(linea):\n",
    "    \n",
    "    linea = linea.lower() #poner todo en minusculas\n",
    "    linea = re.sub(r'http\\S+', '', linea) #quitar urls\n",
    "    linea = re.sub(r\"[^a-zA-Z 911]\", \"\", linea) #quitar cualquier cosa que no sean letras o el 911 (tel de emergencias en USA)\n",
    "    linea = re.sub(' +', ' ',linea) #eliminando cualquier espacio doble o más\n",
    "    tokens= word_tokenize(linea) #Separamos el String en sus distintas palabras y las ingresamos a un listado de 'Tokens'.\n",
    "    nuevos_tokens = []\n",
    "    for i in tokens:\n",
    "        if i not in stop_words:\n",
    "            nuevos_tokens.append(i)\n",
    "    tokens = nuevos_tokens\n",
    "    \n",
    "    return tokens"
   ]
  },
  {
   "cell_type": "code",
   "execution_count": 314,
   "id": "dc7a360f",
   "metadata": {},
   "outputs": [],
   "source": [
    "Tweets_listos = [Tweet_prep(linea) for linea in Df.loc[:, 'text']]  #La lista de listas de tweets listos para ser reasignados al Df"
   ]
  },
  {
   "cell_type": "code",
   "execution_count": 315,
   "id": "b91e3d26",
   "metadata": {},
   "outputs": [
    {
     "data": {
      "text/plain": [
       "7613"
      ]
     },
     "execution_count": 315,
     "metadata": {},
     "output_type": "execute_result"
    }
   ],
   "source": [
    "len(Df.loc[:, 'text']) #Verificando que las listas tengan el mismo tamaño"
   ]
  },
  {
   "cell_type": "code",
   "execution_count": 316,
   "id": "a2a7706f",
   "metadata": {},
   "outputs": [
    {
     "data": {
      "text/plain": [
       "7613"
      ]
     },
     "execution_count": 316,
     "metadata": {},
     "output_type": "execute_result"
    }
   ],
   "source": [
    "len(Tweets_listos)"
   ]
  },
  {
   "cell_type": "code",
   "execution_count": 317,
   "id": "87783fe4",
   "metadata": {},
   "outputs": [],
   "source": [
    "for i in range(0, len(Tweets_listos)):    #Agregamos las listas de palabras procesadas y listas para su analisis\n",
    "    Df.at[i, 'text'] = Tweets_listos[i]"
   ]
  },
  {
   "cell_type": "code",
   "execution_count": 318,
   "id": "900574f3",
   "metadata": {
    "scrolled": true
   },
   "outputs": [
    {
     "data": {
      "text/html": [
       "<div>\n",
       "<style scoped>\n",
       "    .dataframe tbody tr th:only-of-type {\n",
       "        vertical-align: middle;\n",
       "    }\n",
       "\n",
       "    .dataframe tbody tr th {\n",
       "        vertical-align: top;\n",
       "    }\n",
       "\n",
       "    .dataframe thead th {\n",
       "        text-align: right;\n",
       "    }\n",
       "</style>\n",
       "<table border=\"1\" class=\"dataframe\">\n",
       "  <thead>\n",
       "    <tr style=\"text-align: right;\">\n",
       "      <th></th>\n",
       "      <th>id</th>\n",
       "      <th>keyword</th>\n",
       "      <th>location</th>\n",
       "      <th>text</th>\n",
       "      <th>target</th>\n",
       "    </tr>\n",
       "  </thead>\n",
       "  <tbody>\n",
       "    <tr>\n",
       "      <th>0</th>\n",
       "      <td>1</td>\n",
       "      <td>NaN</td>\n",
       "      <td>NaN</td>\n",
       "      <td>[deeds, reason, earthquake, may, allah, forgiv...</td>\n",
       "      <td>1</td>\n",
       "    </tr>\n",
       "    <tr>\n",
       "      <th>1</th>\n",
       "      <td>4</td>\n",
       "      <td>NaN</td>\n",
       "      <td>NaN</td>\n",
       "      <td>[forest, fire, near, la, ronge, sask, canada]</td>\n",
       "      <td>1</td>\n",
       "    </tr>\n",
       "    <tr>\n",
       "      <th>2</th>\n",
       "      <td>5</td>\n",
       "      <td>NaN</td>\n",
       "      <td>NaN</td>\n",
       "      <td>[residents, asked, shelter, place, notified, o...</td>\n",
       "      <td>1</td>\n",
       "    </tr>\n",
       "    <tr>\n",
       "      <th>3</th>\n",
       "      <td>6</td>\n",
       "      <td>NaN</td>\n",
       "      <td>NaN</td>\n",
       "      <td>[1, people, receive, wildfires, evacuation, or...</td>\n",
       "      <td>1</td>\n",
       "    </tr>\n",
       "    <tr>\n",
       "      <th>4</th>\n",
       "      <td>7</td>\n",
       "      <td>NaN</td>\n",
       "      <td>NaN</td>\n",
       "      <td>[got, sent, photo, ruby, alaska, smoke, wildfi...</td>\n",
       "      <td>1</td>\n",
       "    </tr>\n",
       "    <tr>\n",
       "      <th>5</th>\n",
       "      <td>8</td>\n",
       "      <td>NaN</td>\n",
       "      <td>NaN</td>\n",
       "      <td>[rockyfire, update, california, hwy, closed, d...</td>\n",
       "      <td>1</td>\n",
       "    </tr>\n",
       "    <tr>\n",
       "      <th>6</th>\n",
       "      <td>10</td>\n",
       "      <td>NaN</td>\n",
       "      <td>NaN</td>\n",
       "      <td>[flood, disaster, heavy, rain, causes, flash, ...</td>\n",
       "      <td>1</td>\n",
       "    </tr>\n",
       "    <tr>\n",
       "      <th>7</th>\n",
       "      <td>13</td>\n",
       "      <td>NaN</td>\n",
       "      <td>NaN</td>\n",
       "      <td>[im, top, hill, see, fire, woods]</td>\n",
       "      <td>1</td>\n",
       "    </tr>\n",
       "    <tr>\n",
       "      <th>8</th>\n",
       "      <td>14</td>\n",
       "      <td>NaN</td>\n",
       "      <td>NaN</td>\n",
       "      <td>[theres, emergency, evacuation, happening, bui...</td>\n",
       "      <td>1</td>\n",
       "    </tr>\n",
       "    <tr>\n",
       "      <th>9</th>\n",
       "      <td>15</td>\n",
       "      <td>NaN</td>\n",
       "      <td>NaN</td>\n",
       "      <td>[im, afraid, tornado, coming, area]</td>\n",
       "      <td>1</td>\n",
       "    </tr>\n",
       "  </tbody>\n",
       "</table>\n",
       "</div>"
      ],
      "text/plain": [
       "   id keyword location                                               text  \\\n",
       "0   1     NaN      NaN  [deeds, reason, earthquake, may, allah, forgiv...   \n",
       "1   4     NaN      NaN      [forest, fire, near, la, ronge, sask, canada]   \n",
       "2   5     NaN      NaN  [residents, asked, shelter, place, notified, o...   \n",
       "3   6     NaN      NaN  [1, people, receive, wildfires, evacuation, or...   \n",
       "4   7     NaN      NaN  [got, sent, photo, ruby, alaska, smoke, wildfi...   \n",
       "5   8     NaN      NaN  [rockyfire, update, california, hwy, closed, d...   \n",
       "6  10     NaN      NaN  [flood, disaster, heavy, rain, causes, flash, ...   \n",
       "7  13     NaN      NaN                  [im, top, hill, see, fire, woods]   \n",
       "8  14     NaN      NaN  [theres, emergency, evacuation, happening, bui...   \n",
       "9  15     NaN      NaN                [im, afraid, tornado, coming, area]   \n",
       "\n",
       "   target  \n",
       "0       1  \n",
       "1       1  \n",
       "2       1  \n",
       "3       1  \n",
       "4       1  \n",
       "5       1  \n",
       "6       1  \n",
       "7       1  \n",
       "8       1  \n",
       "9       1  "
      ]
     },
     "execution_count": 318,
     "metadata": {},
     "output_type": "execute_result"
    }
   ],
   "source": [
    "Df.head(10)  #listo el Df con los tweets procesados!"
   ]
  },
  {
   "cell_type": "markdown",
   "id": "be1a10e3",
   "metadata": {},
   "source": [
    "#### Frecuencias de palabras y bigramas y trigramas\n",
    "\n",
    "A continuacion evaluamos las palabras mas frecuentes en el Df general, pero tambien diferenciando entre tweets que se refieren a desastres reales y los que no.\n",
    "\n",
    "Además, para el análisis en bigramas y trigramas procedemos de manera similar a lo indicado en la pagina: https://towardsdatascience.com/text-analysis-basics-in-python-443282942ec5"
   ]
  },
  {
   "cell_type": "code",
   "execution_count": 319,
   "id": "7cdb0880",
   "metadata": {},
   "outputs": [],
   "source": [
    "#Separamos el dataframe en desastres reales y falsos para uso futuro\n",
    "\n",
    "criterio = Df['target'] == 0\n",
    "\n",
    "Df_no_desastres = Df[criterio]\n",
    "\n",
    "Df_solo_desastres = Df[~criterio]\n"
   ]
  },
  {
   "cell_type": "code",
   "execution_count": 320,
   "id": "442b8461",
   "metadata": {},
   "outputs": [],
   "source": [
    "#Ahora contamos la ocurrencia de palabras en el Df, Df_no_desastres, y Df_solo_desastres\n",
    "\n",
    "Frecuencias_Df = pd.value_counts(np.hstack(Df['text']))\n",
    "Frecuencias_Df_no_desastres = pd.value_counts(np.hstack(Df_no_desastres['text']))\n",
    "Frecuencias_Df_solo_desastres = pd.value_counts(np.hstack(Df_solo_desastres['text']))"
   ]
  },
  {
   "cell_type": "code",
   "execution_count": 321,
   "id": "e963fbdd",
   "metadata": {},
   "outputs": [
    {
     "data": {
      "text/plain": [
       "1                  511\n",
       "like               344\n",
       "im                 302\n",
       "amp                299\n",
       "fire               250\n",
       "                  ... \n",
       "windowgatribble      1\n",
       "contrasts            1\n",
       "foreboding           1\n",
       "expansive            1\n",
       "symptoms             1\n",
       "Length: 17139, dtype: int64"
      ]
     },
     "execution_count": 321,
     "metadata": {},
     "output_type": "execute_result"
    }
   ],
   "source": [
    "Frecuencias_Df  #Listamos las frecuencias de las palabras/unigramas del dataframe general"
   ]
  },
  {
   "cell_type": "code",
   "execution_count": 322,
   "id": "92d9abb4",
   "metadata": {},
   "outputs": [
    {
     "data": {
      "text/plain": [
       "1             295\n",
       "fire          179\n",
       "news          133\n",
       "via           121\n",
       "disaster      116\n",
       "             ... \n",
       "riveeeeeer      1\n",
       "iiii            1\n",
       "swollen         1\n",
       "idiots          1\n",
       "flip            1\n",
       "Length: 8903, dtype: int64"
      ]
     },
     "execution_count": 322,
     "metadata": {},
     "output_type": "execute_result"
    }
   ],
   "source": [
    "Frecuencias_Df_solo_desastres  #listamos las frecuencias del dataframe que solo contienen desastres 'reales'"
   ]
  },
  {
   "cell_type": "code",
   "execution_count": 323,
   "id": "6dcb975d",
   "metadata": {},
   "outputs": [
    {
     "data": {
      "text/plain": [
       "like                252\n",
       "im                  245\n",
       "1                   216\n",
       "amp                 193\n",
       "new                 170\n",
       "                   ... \n",
       "dealing               1\n",
       "surgery               1\n",
       "knife                 1\n",
       "improvement           1\n",
       "explodingkittens      1\n",
       "Length: 12094, dtype: int64"
      ]
     },
     "execution_count": 323,
     "metadata": {},
     "output_type": "execute_result"
    }
   ],
   "source": [
    "Frecuencias_Df_no_desastres  #listamos las frecuencias del Df donde no hay desastres reales"
   ]
  },
  {
   "cell_type": "markdown",
   "id": "f943e44d",
   "metadata": {},
   "source": [
    "#### Bigramas y Trigramas"
   ]
  },
  {
   "cell_type": "code",
   "execution_count": 324,
   "id": "483b7b58",
   "metadata": {},
   "outputs": [
    {
     "data": {
      "text/html": [
       "<div>\n",
       "<style scoped>\n",
       "    .dataframe tbody tr th:only-of-type {\n",
       "        vertical-align: middle;\n",
       "    }\n",
       "\n",
       "    .dataframe tbody tr th {\n",
       "        vertical-align: top;\n",
       "    }\n",
       "\n",
       "    .dataframe thead th {\n",
       "        text-align: right;\n",
       "    }\n",
       "</style>\n",
       "<table border=\"1\" class=\"dataframe\">\n",
       "  <thead>\n",
       "    <tr style=\"text-align: right;\">\n",
       "      <th></th>\n",
       "      <th>id</th>\n",
       "      <th>keyword</th>\n",
       "      <th>location</th>\n",
       "      <th>text</th>\n",
       "      <th>target</th>\n",
       "    </tr>\n",
       "  </thead>\n",
       "  <tbody>\n",
       "    <tr>\n",
       "      <th>0</th>\n",
       "      <td>1</td>\n",
       "      <td>NaN</td>\n",
       "      <td>NaN</td>\n",
       "      <td>[deeds, reason, earthquake, may, allah, forgiv...</td>\n",
       "      <td>1</td>\n",
       "    </tr>\n",
       "    <tr>\n",
       "      <th>1</th>\n",
       "      <td>4</td>\n",
       "      <td>NaN</td>\n",
       "      <td>NaN</td>\n",
       "      <td>[forest, fire, near, la, ronge, sask, canada]</td>\n",
       "      <td>1</td>\n",
       "    </tr>\n",
       "    <tr>\n",
       "      <th>2</th>\n",
       "      <td>5</td>\n",
       "      <td>NaN</td>\n",
       "      <td>NaN</td>\n",
       "      <td>[residents, asked, shelter, place, notified, o...</td>\n",
       "      <td>1</td>\n",
       "    </tr>\n",
       "    <tr>\n",
       "      <th>3</th>\n",
       "      <td>6</td>\n",
       "      <td>NaN</td>\n",
       "      <td>NaN</td>\n",
       "      <td>[1, people, receive, wildfires, evacuation, or...</td>\n",
       "      <td>1</td>\n",
       "    </tr>\n",
       "    <tr>\n",
       "      <th>4</th>\n",
       "      <td>7</td>\n",
       "      <td>NaN</td>\n",
       "      <td>NaN</td>\n",
       "      <td>[got, sent, photo, ruby, alaska, smoke, wildfi...</td>\n",
       "      <td>1</td>\n",
       "    </tr>\n",
       "  </tbody>\n",
       "</table>\n",
       "</div>"
      ],
      "text/plain": [
       "   id keyword location                                               text  \\\n",
       "0   1     NaN      NaN  [deeds, reason, earthquake, may, allah, forgiv...   \n",
       "1   4     NaN      NaN      [forest, fire, near, la, ronge, sask, canada]   \n",
       "2   5     NaN      NaN  [residents, asked, shelter, place, notified, o...   \n",
       "3   6     NaN      NaN  [1, people, receive, wildfires, evacuation, or...   \n",
       "4   7     NaN      NaN  [got, sent, photo, ruby, alaska, smoke, wildfi...   \n",
       "\n",
       "   target  \n",
       "0       1  \n",
       "1       1  \n",
       "2       1  \n",
       "3       1  \n",
       "4       1  "
      ]
     },
     "execution_count": 324,
     "metadata": {},
     "output_type": "execute_result"
    }
   ],
   "source": [
    "Df.head()"
   ]
  },
  {
   "cell_type": "code",
   "execution_count": 325,
   "id": "679f91a6",
   "metadata": {},
   "outputs": [],
   "source": [
    "#Antes de empezar, creamos un dataset exclusivo para este proposito. \n",
    "#Es igual al Df depurado de stopwords etc, pero en vez de listas ahora unimos estas palabras en strings para que\n",
    "#sea mas facil trabajar con sklearn\n",
    "\n",
    "df_ngrams = Df.copy()  \n",
    "\n",
    "new_vals = []\n",
    "for i in range(0, len(df_ngrams)):\n",
    "    new_vals.append(' '.join(df_ngrams.iloc[i]['text']))\n",
    "\n",
    "text_col = {'text': new_vals}\n",
    "\n",
    "df_ngrams['text'] = pd.DataFrame(text_col)"
   ]
  },
  {
   "cell_type": "code",
   "execution_count": 326,
   "id": "df0a4ab7",
   "metadata": {},
   "outputs": [],
   "source": [
    "df_ngrams.head()  #listo!\n"
   ]
  },
  {
   "cell_type": "code",
   "execution_count": null,
   "id": "3cca6912",
   "metadata": {},
   "outputs": [],
   "source": [
    "df_modelo = df_ngrams.copy()"
   ]
  },
  {
   "cell_type": "code",
   "execution_count": 327,
   "id": "cd3531ad",
   "metadata": {},
   "outputs": [],
   "source": [
    "#importamos librerias requeridas para esta etapa\n",
    "\n",
    "from sklearn.feature_extraction.text import CountVectorizer\n",
    "\n",
    "\n"
   ]
  },
  {
   "cell_type": "code",
   "execution_count": 328,
   "id": "65d65aca",
   "metadata": {},
   "outputs": [],
   "source": [
    "\n",
    "\n",
    "c_vec = CountVectorizer(stop_words=stop_words, ngram_range=(2,3))  #instanciando el objeto CountVectorizer\n",
    "\n",
    "# Generamos la matriz de ngramas, esto no debería de ser muy dificil ya que las frases ya vienen 'limpias'\n",
    "ngrams = c_vec.fit_transform(df_ngrams['text'])\n"
   ]
  },
  {
   "cell_type": "code",
   "execution_count": 329,
   "id": "de9b46ba",
   "metadata": {},
   "outputs": [],
   "source": [
    "# Evaluamos las frecuencias de repetición de los bigramas y trigrmas que mas se repiten\n",
    "count_values = ngrams.toarray().sum(axis=0)\n",
    "\n",
    "\n",
    "# listamos los bigramas y trigramas mediante un dataframe ordenados por sus respectivas frecuencias\n",
    "vocab = c_vec.vocabulary_\n",
    "\n",
    "df_ngrams = pd.DataFrame(sorted([(count_values[i],k) for k,i in vocab.items()], reverse=True)  #generamos el nuevo dataframe\n",
    "            ).rename(columns={0: 'Frecuencia', 1:'bigrama/trigrama'})"
   ]
  },
  {
   "cell_type": "code",
   "execution_count": 330,
   "id": "8d7fb581",
   "metadata": {},
   "outputs": [
    {
     "data": {
      "text/html": [
       "<div>\n",
       "<style scoped>\n",
       "    .dataframe tbody tr th:only-of-type {\n",
       "        vertical-align: middle;\n",
       "    }\n",
       "\n",
       "    .dataframe tbody tr th {\n",
       "        vertical-align: top;\n",
       "    }\n",
       "\n",
       "    .dataframe thead th {\n",
       "        text-align: right;\n",
       "    }\n",
       "</style>\n",
       "<table border=\"1\" class=\"dataframe\">\n",
       "  <thead>\n",
       "    <tr style=\"text-align: right;\">\n",
       "      <th></th>\n",
       "      <th>Frecuencia</th>\n",
       "      <th>bigrama/trigrama</th>\n",
       "    </tr>\n",
       "  </thead>\n",
       "  <tbody>\n",
       "    <tr>\n",
       "      <th>0</th>\n",
       "      <td>59</td>\n",
       "      <td>suicide bomber</td>\n",
       "    </tr>\n",
       "    <tr>\n",
       "      <th>1</th>\n",
       "      <td>56</td>\n",
       "      <td>burning buildings</td>\n",
       "    </tr>\n",
       "    <tr>\n",
       "      <th>2</th>\n",
       "      <td>43</td>\n",
       "      <td>youtube video</td>\n",
       "    </tr>\n",
       "    <tr>\n",
       "      <th>3</th>\n",
       "      <td>43</td>\n",
       "      <td>gon na</td>\n",
       "    </tr>\n",
       "    <tr>\n",
       "      <th>4</th>\n",
       "      <td>42</td>\n",
       "      <td>liked youtube video</td>\n",
       "    </tr>\n",
       "    <tr>\n",
       "      <th>5</th>\n",
       "      <td>42</td>\n",
       "      <td>liked youtube</td>\n",
       "    </tr>\n",
       "    <tr>\n",
       "      <th>6</th>\n",
       "      <td>41</td>\n",
       "      <td>northern california</td>\n",
       "    </tr>\n",
       "    <tr>\n",
       "      <th>7</th>\n",
       "      <td>39</td>\n",
       "      <td>oil spill</td>\n",
       "    </tr>\n",
       "    <tr>\n",
       "      <th>8</th>\n",
       "      <td>39</td>\n",
       "      <td>cross body</td>\n",
       "    </tr>\n",
       "    <tr>\n",
       "      <th>9</th>\n",
       "      <td>35</td>\n",
       "      <td>wan na</td>\n",
       "    </tr>\n",
       "    <tr>\n",
       "      <th>10</th>\n",
       "      <td>34</td>\n",
       "      <td>california wildfire</td>\n",
       "    </tr>\n",
       "    <tr>\n",
       "      <th>11</th>\n",
       "      <td>33</td>\n",
       "      <td>suicide bombing</td>\n",
       "    </tr>\n",
       "    <tr>\n",
       "      <th>12</th>\n",
       "      <td>33</td>\n",
       "      <td>looks like</td>\n",
       "    </tr>\n",
       "    <tr>\n",
       "      <th>13</th>\n",
       "      <td>31</td>\n",
       "      <td>mass murder</td>\n",
       "    </tr>\n",
       "    <tr>\n",
       "      <th>14</th>\n",
       "      <td>31</td>\n",
       "      <td>full read</td>\n",
       "    </tr>\n",
       "    <tr>\n",
       "      <th>15</th>\n",
       "      <td>30</td>\n",
       "      <td>suicide bomber detonated</td>\n",
       "    </tr>\n",
       "    <tr>\n",
       "      <th>16</th>\n",
       "      <td>30</td>\n",
       "      <td>prebreak best</td>\n",
       "    </tr>\n",
       "    <tr>\n",
       "      <th>17</th>\n",
       "      <td>30</td>\n",
       "      <td>natural disaster</td>\n",
       "    </tr>\n",
       "    <tr>\n",
       "      <th>18</th>\n",
       "      <td>30</td>\n",
       "      <td>bomber detonated</td>\n",
       "    </tr>\n",
       "    <tr>\n",
       "      <th>19</th>\n",
       "      <td>29</td>\n",
       "      <td>northern california wildfire</td>\n",
       "    </tr>\n",
       "  </tbody>\n",
       "</table>\n",
       "</div>"
      ],
      "text/plain": [
       "    Frecuencia              bigrama/trigrama\n",
       "0           59                suicide bomber\n",
       "1           56             burning buildings\n",
       "2           43                 youtube video\n",
       "3           43                        gon na\n",
       "4           42           liked youtube video\n",
       "5           42                 liked youtube\n",
       "6           41           northern california\n",
       "7           39                     oil spill\n",
       "8           39                    cross body\n",
       "9           35                        wan na\n",
       "10          34           california wildfire\n",
       "11          33               suicide bombing\n",
       "12          33                    looks like\n",
       "13          31                   mass murder\n",
       "14          31                     full read\n",
       "15          30      suicide bomber detonated\n",
       "16          30                 prebreak best\n",
       "17          30              natural disaster\n",
       "18          30              bomber detonated\n",
       "19          29  northern california wildfire"
      ]
     },
     "execution_count": 330,
     "metadata": {},
     "output_type": "execute_result"
    }
   ],
   "source": [
    "df_ngrams.head(20) #Listos los bigramas/trigramas"
   ]
  },
  {
   "cell_type": "code",
   "execution_count": 331,
   "id": "7611b0ae",
   "metadata": {},
   "outputs": [
    {
     "data": {
      "image/png": "[encoded data removed]",
      "text/plain": [
       "<Figure size 1080x576 with 1 Axes>"
      ]
     },
     "metadata": {
      "needs_background": "light"
     },
     "output_type": "display_data"
    }
   ],
   "source": [
    "#Para una mejor visualización hacemos un barplot con los bigramas y trigramas y sus frecuecnias correspondientes\n",
    "\n",
    "datos_plot = df_ngrams.iloc[0:20][['Frecuencia', 'bigrama/trigrama']]\n",
    "plt.figure(figsize=(15,8))\n",
    "\n",
    "plt.bar(datos_plot['bigrama/trigrama'], datos_plot['Frecuencia'])\n",
    "\n",
    "plt.xticks(rotation=45, ha=\"right\")\n",
    "\n",
    "plt.xlabel('Bigramas/Trigramas')\n",
    "plt.ylabel('Frecuencia')\n",
    "plt.show()"
   ]
  },
  {
   "cell_type": "code",
   "execution_count": null,
   "id": "9238936b",
   "metadata": {},
   "outputs": [],
   "source": []
  },
  {
   "cell_type": "markdown",
   "id": "d5016362",
   "metadata": {},
   "source": [
    "### Analisis Exploratorio"
   ]
  },
  {
   "cell_type": "code",
   "execution_count": 332,
   "id": "cd008b89",
   "metadata": {},
   "outputs": [],
   "source": [
    "from wordcloud import WordCloud\n",
    "\n",
    "import matplotlib.pyplot as plt\n",
    "%matplotlib inline"
   ]
  },
  {
   "cell_type": "markdown",
   "id": "babb3ec1",
   "metadata": {},
   "source": [
    "#### Frecuencia de las palabras en los tweets"
   ]
  },
  {
   "cell_type": "code",
   "execution_count": 333,
   "id": "1b03cca8",
   "metadata": {},
   "outputs": [
    {
     "data": {
      "text/plain": [
       "1                  511\n",
       "like               344\n",
       "im                 302\n",
       "amp                299\n",
       "fire               250\n",
       "                  ... \n",
       "windowgatribble      1\n",
       "contrasts            1\n",
       "foreboding           1\n",
       "expansive            1\n",
       "symptoms             1\n",
       "Length: 17139, dtype: int64"
      ]
     },
     "execution_count": 333,
     "metadata": {},
     "output_type": "execute_result"
    }
   ],
   "source": [
    "Frecuencias_Df"
   ]
  },
  {
   "cell_type": "markdown",
   "id": "966bd348",
   "metadata": {},
   "source": [
    "\n",
    "#### Nube de palabras"
   ]
  },
  {
   "cell_type": "markdown",
   "id": "c24be19f",
   "metadata": {},
   "source": [
    "##### El dataset completo"
   ]
  },
  {
   "cell_type": "code",
   "execution_count": 334,
   "id": "b61f59e9",
   "metadata": {},
   "outputs": [
    {
     "data": {
      "image/png": "[encoded data removed]",
      "text/plain": [
       "<Figure size 432x288 with 1 Axes>"
      ]
     },
     "metadata": {
      "needs_background": "light"
     },
     "output_type": "display_data"
    },
    {
     "data": {
      "text/plain": [
       "<wordcloud.wordcloud.WordCloud at 0x240d5955a00>"
      ]
     },
     "execution_count": 334,
     "metadata": {},
     "output_type": "execute_result"
    }
   ],
   "source": [
    "words = list(map(str, Df['text']))\n",
    "\n",
    "result = ' '.join(words)\n",
    "\n",
    "wordcloud = WordCloud().generate(result)\n",
    "\n",
    "#Display the generated image:\n",
    "plt.imshow(wordcloud, interpolation='bilinear')\n",
    "plt.axis(\"off\")\n",
    "plt.show()\n",
    "\n",
    "# Save the image in the img folder:\n",
    "wordcloud.to_file(\"firs.png\")\n"
   ]
  },
  {
   "cell_type": "markdown",
   "id": "c6b7a06f",
   "metadata": {},
   "source": [
    "##### Tweets normales "
   ]
  },
  {
   "cell_type": "code",
   "execution_count": 335,
   "id": "fceab4d1",
   "metadata": {},
   "outputs": [
    {
     "data": {
      "image/png": "[encoded data removed]",
      "text/plain": [
       "<Figure size 432x288 with 1 Axes>"
      ]
     },
     "metadata": {
      "needs_background": "light"
     },
     "output_type": "display_data"
    },
    {
     "data": {
      "text/plain": [
       "<wordcloud.wordcloud.WordCloud at 0x240c83c6eb0>"
      ]
     },
     "execution_count": 335,
     "metadata": {},
     "output_type": "execute_result"
    }
   ],
   "source": [
    "words = list(map(str, Df_no_desastres['text']))\n",
    "\n",
    "result = ' '.join(words)\n",
    "\n",
    "wordcloud = WordCloud().generate(result)\n",
    "\n",
    "#Display the generated image:\n",
    "plt.imshow(wordcloud, interpolation='bilinear')\n",
    "plt.axis(\"off\")\n",
    "plt.show()\n",
    "\n",
    "# Save the image in the img folder:\n",
    "wordcloud.to_file(\"normales.png\")"
   ]
  },
  {
   "cell_type": "markdown",
   "id": "ab49c106",
   "metadata": {},
   "source": [
    "##### Tweets con desastres"
   ]
  },
  {
   "cell_type": "code",
   "execution_count": 336,
   "id": "15ee0ff3",
   "metadata": {},
   "outputs": [
    {
     "data": {
      "image/png": "[encoded data removed]",
      "text/plain": [
       "<Figure size 432x288 with 1 Axes>"
      ]
     },
     "metadata": {
      "needs_background": "light"
     },
     "output_type": "display_data"
    },
    {
     "data": {
      "text/plain": [
       "<wordcloud.wordcloud.WordCloud at 0x240c4261130>"
      ]
     },
     "execution_count": 336,
     "metadata": {},
     "output_type": "execute_result"
    }
   ],
   "source": [
    "words = list(map(str, Df_solo_desastres['text']))\n",
    "\n",
    "result = ' '.join(words)\n",
    "\n",
    "wordcloud = WordCloud().generate(result)\n",
    "\n",
    "#Display the generated image:\n",
    "plt.imshow(wordcloud, interpolation='bilinear')\n",
    "plt.axis(\"off\")\n",
    "plt.show()\n",
    "\n",
    "# Save the image in the img folder:\n",
    "wordcloud.to_file(\"desastres.png\")"
   ]
  },
  {
   "cell_type": "markdown",
   "id": "e6754d36",
   "metadata": {},
   "source": [
    "#### Histogramas"
   ]
  },
  {
   "cell_type": "markdown",
   "id": "2dc5e130",
   "metadata": {},
   "source": [
    "##### Tweets normales"
   ]
  },
  {
   "cell_type": "code",
   "execution_count": 337,
   "id": "8f6f305a",
   "metadata": {},
   "outputs": [],
   "source": [
    "# Opcional para establecer un limite (10)\n",
    "Frecuencias_Df_no_desastres = Frecuencias_Df_no_desastres[:10]\n",
    "\n",
    "Frecuencias_Df_no_desastres = pd.DataFrame(Frecuencias_Df_no_desastres)"
   ]
  },
  {
   "cell_type": "code",
   "execution_count": 338,
   "id": "7b286cdb",
   "metadata": {},
   "outputs": [
    {
     "data": {
      "text/plain": [
       "<AxesSubplot:title={'center':'Top 10 Word Frequency'}, xlabel='Word', ylabel='Count'>"
      ]
     },
     "execution_count": 338,
     "metadata": {},
     "output_type": "execute_result"
    },
    {
     "data": {
      "image/png": "[encoded data removed]",
      "text/plain": [
       "<Figure size 1296x648 with 1 Axes>"
      ]
     },
     "metadata": {
      "needs_background": "light"
     },
     "output_type": "display_data"
    }
   ],
   "source": [
    "# Grafica de barras\n",
    "Frecuencias_Df_no_desastres.plot.bar(figsize=(18,9),xlabel=\"Word\",ylabel=\"Count\",title=\"Top 10 Word Frequency\",rot=75,color=[\"#0052CC\"],grid=True)"
   ]
  },
  {
   "cell_type": "markdown",
   "id": "513c6cb4",
   "metadata": {},
   "source": [
    "##### Tweets con desastres"
   ]
  },
  {
   "cell_type": "code",
   "execution_count": 339,
   "id": "765fadf4",
   "metadata": {},
   "outputs": [],
   "source": [
    "# Opcional para establecer un limite (10)\n",
    "Frecuencias_Df_solo_desastres = Frecuencias_Df_solo_desastres[:10]\n",
    "\n",
    "Frecuencias_Df_solo_desastres = pd.DataFrame(Frecuencias_Df_solo_desastres)"
   ]
  },
  {
   "cell_type": "code",
   "execution_count": 340,
   "id": "9661bf72",
   "metadata": {},
   "outputs": [
    {
     "data": {
      "text/plain": [
       "<AxesSubplot:title={'center':'Disaster Top 10 Word Frequency'}, xlabel='Word', ylabel='Count'>"
      ]
     },
     "execution_count": 340,
     "metadata": {},
     "output_type": "execute_result"
    },
    {
     "data": {
      "image/png": "[encoded data removed]",
      "text/plain": [
       "<Figure size 1296x648 with 1 Axes>"
      ]
     },
     "metadata": {
      "needs_background": "light"
     },
     "output_type": "display_data"
    }
   ],
   "source": [
    "# Grafica de barras\n",
    "Frecuencias_Df_solo_desastres.plot.bar(figsize=(18,9),xlabel=\"Word\",ylabel=\"Count\",title=\"Disaster Top 10 Word Frequency\",rot=75,color=[\"#0052CC\"],grid=True)"
   ]
  },
  {
   "cell_type": "markdown",
   "id": "97359dbe",
   "metadata": {},
   "source": [
    "##### Se clasifican los tweets por positivo, negativo o neutro"
   ]
  },
  {
   "cell_type": "code",
   "execution_count": 341,
   "id": "c80f49e0",
   "metadata": {},
   "outputs": [
    {
     "data": {
      "text/html": [
       "<div>\n",
       "<style scoped>\n",
       "    .dataframe tbody tr th:only-of-type {\n",
       "        vertical-align: middle;\n",
       "    }\n",
       "\n",
       "    .dataframe tbody tr th {\n",
       "        vertical-align: top;\n",
       "    }\n",
       "\n",
       "    .dataframe thead th {\n",
       "        text-align: right;\n",
       "    }\n",
       "</style>\n",
       "<table border=\"1\" class=\"dataframe\">\n",
       "  <thead>\n",
       "    <tr style=\"text-align: right;\">\n",
       "      <th></th>\n",
       "      <th>id</th>\n",
       "      <th>keyword</th>\n",
       "      <th>location</th>\n",
       "      <th>text</th>\n",
       "      <th>target</th>\n",
       "    </tr>\n",
       "  </thead>\n",
       "  <tbody>\n",
       "    <tr>\n",
       "      <th>0</th>\n",
       "      <td>1</td>\n",
       "      <td>NaN</td>\n",
       "      <td>NaN</td>\n",
       "      <td>[deeds, reason, earthquake, may, allah, forgiv...</td>\n",
       "      <td>1</td>\n",
       "    </tr>\n",
       "    <tr>\n",
       "      <th>1</th>\n",
       "      <td>4</td>\n",
       "      <td>NaN</td>\n",
       "      <td>NaN</td>\n",
       "      <td>[forest, fire, near, la, ronge, sask, canada]</td>\n",
       "      <td>1</td>\n",
       "    </tr>\n",
       "    <tr>\n",
       "      <th>2</th>\n",
       "      <td>5</td>\n",
       "      <td>NaN</td>\n",
       "      <td>NaN</td>\n",
       "      <td>[residents, asked, shelter, place, notified, o...</td>\n",
       "      <td>1</td>\n",
       "    </tr>\n",
       "    <tr>\n",
       "      <th>3</th>\n",
       "      <td>6</td>\n",
       "      <td>NaN</td>\n",
       "      <td>NaN</td>\n",
       "      <td>[1, people, receive, wildfires, evacuation, or...</td>\n",
       "      <td>1</td>\n",
       "    </tr>\n",
       "    <tr>\n",
       "      <th>4</th>\n",
       "      <td>7</td>\n",
       "      <td>NaN</td>\n",
       "      <td>NaN</td>\n",
       "      <td>[got, sent, photo, ruby, alaska, smoke, wildfi...</td>\n",
       "      <td>1</td>\n",
       "    </tr>\n",
       "  </tbody>\n",
       "</table>\n",
       "</div>"
      ],
      "text/plain": [
       "   id keyword location                                               text  \\\n",
       "0   1     NaN      NaN  [deeds, reason, earthquake, may, allah, forgiv...   \n",
       "1   4     NaN      NaN      [forest, fire, near, la, ronge, sask, canada]   \n",
       "2   5     NaN      NaN  [residents, asked, shelter, place, notified, o...   \n",
       "3   6     NaN      NaN  [1, people, receive, wildfires, evacuation, or...   \n",
       "4   7     NaN      NaN  [got, sent, photo, ruby, alaska, smoke, wildfi...   \n",
       "\n",
       "   target  \n",
       "0       1  \n",
       "1       1  \n",
       "2       1  \n",
       "3       1  \n",
       "4       1  "
      ]
     },
     "execution_count": 341,
     "metadata": {},
     "output_type": "execute_result"
    }
   ],
   "source": [
    "Df.head()"
   ]
  },
  {
   "cell_type": "code",
   "execution_count": 342,
   "id": "4dde0bc8",
   "metadata": {},
   "outputs": [],
   "source": [
    "from textblob import TextBlob\n",
    "\n",
    "def useSentimentPolarity(tweet):\n",
    "    listToString = ' '.join(tweet)\n",
    "    watchSentiment = TextBlob(listToString)\n",
    "\n",
    "    if watchSentiment.sentiment.polarity >= 0.05:\n",
    "        return ['positivo', watchSentiment.sentiment.polarity ]\n",
    "    elif watchSentiment.sentiment.polarity <= - 0.05:\n",
    "        return ['negativo', watchSentiment.sentiment.polarity ]\n",
    "    else:\n",
    "        return ['neutral', watchSentiment.sentiment.polarity ] "
   ]
  },
  {
   "cell_type": "code",
   "execution_count": 343,
   "id": "56edc75f",
   "metadata": {},
   "outputs": [
    {
     "data": {
      "text/html": [
       "<div>\n",
       "<style scoped>\n",
       "    .dataframe tbody tr th:only-of-type {\n",
       "        vertical-align: middle;\n",
       "    }\n",
       "\n",
       "    .dataframe tbody tr th {\n",
       "        vertical-align: top;\n",
       "    }\n",
       "\n",
       "    .dataframe thead th {\n",
       "        text-align: right;\n",
       "    }\n",
       "</style>\n",
       "<table border=\"1\" class=\"dataframe\">\n",
       "  <thead>\n",
       "    <tr style=\"text-align: right;\">\n",
       "      <th></th>\n",
       "      <th>id</th>\n",
       "      <th>keyword</th>\n",
       "      <th>location</th>\n",
       "      <th>text</th>\n",
       "      <th>target</th>\n",
       "      <th>polarity</th>\n",
       "      <th>polarity_value</th>\n",
       "    </tr>\n",
       "  </thead>\n",
       "  <tbody>\n",
       "    <tr>\n",
       "      <th>0</th>\n",
       "      <td>1</td>\n",
       "      <td>NaN</td>\n",
       "      <td>NaN</td>\n",
       "      <td>[deeds, reason, earthquake, may, allah, forgiv...</td>\n",
       "      <td>1</td>\n",
       "      <td>neutral</td>\n",
       "      <td>0.0</td>\n",
       "    </tr>\n",
       "    <tr>\n",
       "      <th>1</th>\n",
       "      <td>4</td>\n",
       "      <td>NaN</td>\n",
       "      <td>NaN</td>\n",
       "      <td>[forest, fire, near, la, ronge, sask, canada]</td>\n",
       "      <td>1</td>\n",
       "      <td>positivo</td>\n",
       "      <td>0.1</td>\n",
       "    </tr>\n",
       "    <tr>\n",
       "      <th>2</th>\n",
       "      <td>5</td>\n",
       "      <td>NaN</td>\n",
       "      <td>NaN</td>\n",
       "      <td>[residents, asked, shelter, place, notified, o...</td>\n",
       "      <td>1</td>\n",
       "      <td>negativo</td>\n",
       "      <td>-0.1</td>\n",
       "    </tr>\n",
       "    <tr>\n",
       "      <th>3</th>\n",
       "      <td>6</td>\n",
       "      <td>NaN</td>\n",
       "      <td>NaN</td>\n",
       "      <td>[1, people, receive, wildfires, evacuation, or...</td>\n",
       "      <td>1</td>\n",
       "      <td>neutral</td>\n",
       "      <td>0.0</td>\n",
       "    </tr>\n",
       "    <tr>\n",
       "      <th>4</th>\n",
       "      <td>7</td>\n",
       "      <td>NaN</td>\n",
       "      <td>NaN</td>\n",
       "      <td>[got, sent, photo, ruby, alaska, smoke, wildfi...</td>\n",
       "      <td>1</td>\n",
       "      <td>neutral</td>\n",
       "      <td>0.0</td>\n",
       "    </tr>\n",
       "  </tbody>\n",
       "</table>\n",
       "</div>"
      ],
      "text/plain": [
       "   id keyword location                                               text  \\\n",
       "0   1     NaN      NaN  [deeds, reason, earthquake, may, allah, forgiv...   \n",
       "1   4     NaN      NaN      [forest, fire, near, la, ronge, sask, canada]   \n",
       "2   5     NaN      NaN  [residents, asked, shelter, place, notified, o...   \n",
       "3   6     NaN      NaN  [1, people, receive, wildfires, evacuation, or...   \n",
       "4   7     NaN      NaN  [got, sent, photo, ruby, alaska, smoke, wildfi...   \n",
       "\n",
       "   target  polarity  polarity_value  \n",
       "0       1   neutral             0.0  \n",
       "1       1  positivo             0.1  \n",
       "2       1  negativo            -0.1  \n",
       "3       1   neutral             0.0  \n",
       "4       1   neutral             0.0  "
      ]
     },
     "execution_count": 343,
     "metadata": {},
     "output_type": "execute_result"
    }
   ],
   "source": [
    "polarity = []\n",
    "polarity_value = []\n",
    "for i in range(0, len(Df)):\n",
    "    polarity.append(useSentimentPolarity(Df.loc[i, 'text'])[0])\n",
    "    polarity_value.append(useSentimentPolarity(Df.loc[i, 'text'])[1])\n",
    "\n",
    "Df['polarity'] = polarity\n",
    "Df['polarity_value'] = polarity_value\n",
    "Df.head()"
   ]
  },
  {
   "cell_type": "markdown",
   "id": "bdef96b5",
   "metadata": {},
   "source": [
    "##### Histograma con la cantidad de tweets positivos, negativos y neutros."
   ]
  },
  {
   "cell_type": "code",
   "execution_count": 344,
   "id": "f309aa8f",
   "metadata": {},
   "outputs": [
    {
     "data": {
      "text/plain": [
       "(array([3928.,    0.,    0.,    0.,    0., 2207.,    0.,    0.,    0.,\n",
       "        1478.]),\n",
       " array([0. , 0.2, 0.4, 0.6, 0.8, 1. , 1.2, 1.4, 1.6, 1.8, 2. ]),\n",
       " <BarContainer object of 10 artists>)"
      ]
     },
     "execution_count": 344,
     "metadata": {},
     "output_type": "execute_result"
    },
    {
     "data": {
      "image/png": "[encoded data removed]",
      "text/plain": [
       "<Figure size 432x288 with 1 Axes>"
      ]
     },
     "metadata": {
      "needs_background": "light"
     },
     "output_type": "display_data"
    }
   ],
   "source": [
    "plt.hist(Df['polarity'])"
   ]
  },
  {
   "cell_type": "markdown",
   "id": "307cf6a6",
   "metadata": {},
   "source": [
    "##### Los 10 tweets más negativos"
   ]
  },
  {
   "cell_type": "code",
   "execution_count": 345,
   "id": "1a7ecf34",
   "metadata": {},
   "outputs": [
    {
     "data": {
      "text/html": [
       "<div>\n",
       "<style scoped>\n",
       "    .dataframe tbody tr th:only-of-type {\n",
       "        vertical-align: middle;\n",
       "    }\n",
       "\n",
       "    .dataframe tbody tr th {\n",
       "        vertical-align: top;\n",
       "    }\n",
       "\n",
       "    .dataframe thead th {\n",
       "        text-align: right;\n",
       "    }\n",
       "</style>\n",
       "<table border=\"1\" class=\"dataframe\">\n",
       "  <thead>\n",
       "    <tr style=\"text-align: right;\">\n",
       "      <th></th>\n",
       "      <th>id</th>\n",
       "      <th>keyword</th>\n",
       "      <th>location</th>\n",
       "      <th>text</th>\n",
       "      <th>target</th>\n",
       "      <th>polarity</th>\n",
       "      <th>polarity_value</th>\n",
       "    </tr>\n",
       "  </thead>\n",
       "  <tbody>\n",
       "    <tr>\n",
       "      <th>426</th>\n",
       "      <td>617</td>\n",
       "      <td>arsonist</td>\n",
       "      <td>ss</td>\n",
       "      <td>[hif, trick, think, nasty, things]</td>\n",
       "      <td>0</td>\n",
       "      <td>negativo</td>\n",
       "      <td>-1.0</td>\n",
       "    </tr>\n",
       "    <tr>\n",
       "      <th>454</th>\n",
       "      <td>657</td>\n",
       "      <td>attack</td>\n",
       "      <td>Freeport IL. USA</td>\n",
       "      <td>[horrific, attack, wife, muslim, italy, livele...</td>\n",
       "      <td>1</td>\n",
       "      <td>negativo</td>\n",
       "      <td>-1.0</td>\n",
       "    </tr>\n",
       "    <tr>\n",
       "      <th>5799</th>\n",
       "      <td>8278</td>\n",
       "      <td>rioting</td>\n",
       "      <td>NaN</td>\n",
       "      <td>[aelinrhee, group, mascara, smeared, girls, ri...</td>\n",
       "      <td>1</td>\n",
       "      <td>negativo</td>\n",
       "      <td>-1.0</td>\n",
       "    </tr>\n",
       "    <tr>\n",
       "      <th>6672</th>\n",
       "      <td>9563</td>\n",
       "      <td>thunder</td>\n",
       "      <td>South Carolina, USA</td>\n",
       "      <td>[worst, part, seeing, lightning, trying, guess...</td>\n",
       "      <td>0</td>\n",
       "      <td>negativo</td>\n",
       "      <td>-1.0</td>\n",
       "    </tr>\n",
       "    <tr>\n",
       "      <th>3557</th>\n",
       "      <td>5083</td>\n",
       "      <td>famine</td>\n",
       "      <td>Massachusetts</td>\n",
       "      <td>[russia, destroys, food, people, go, hungry, o...</td>\n",
       "      <td>1</td>\n",
       "      <td>negativo</td>\n",
       "      <td>-1.0</td>\n",
       "    </tr>\n",
       "    <tr>\n",
       "      <th>7195</th>\n",
       "      <td>10307</td>\n",
       "      <td>weapon</td>\n",
       "      <td>NaN</td>\n",
       "      <td>[abcnews, nuclear, bomb, terrible, weapon]</td>\n",
       "      <td>1</td>\n",
       "      <td>negativo</td>\n",
       "      <td>-1.0</td>\n",
       "    </tr>\n",
       "    <tr>\n",
       "      <th>4849</th>\n",
       "      <td>6908</td>\n",
       "      <td>mass%20murderer</td>\n",
       "      <td>Earth-616</td>\n",
       "      <td>[creelyou, must, think, im, real, moron, flag,...</td>\n",
       "      <td>0</td>\n",
       "      <td>negativo</td>\n",
       "      <td>-1.0</td>\n",
       "    </tr>\n",
       "    <tr>\n",
       "      <th>501</th>\n",
       "      <td>726</td>\n",
       "      <td>attacked</td>\n",
       "      <td>Los Angeles, CA</td>\n",
       "      <td>[envw9, nickcocofree, juliedicaro, jdabe, wors...</td>\n",
       "      <td>0</td>\n",
       "      <td>negativo</td>\n",
       "      <td>-1.0</td>\n",
       "    </tr>\n",
       "    <tr>\n",
       "      <th>166</th>\n",
       "      <td>241</td>\n",
       "      <td>airplane%20accident</td>\n",
       "      <td>Fashion Heaven. IG: TMId_</td>\n",
       "      <td>[phone, looks, like, car, ship, airplane, acci...</td>\n",
       "      <td>0</td>\n",
       "      <td>negativo</td>\n",
       "      <td>-1.0</td>\n",
       "    </tr>\n",
       "    <tr>\n",
       "      <th>3717</th>\n",
       "      <td>5285</td>\n",
       "      <td>fear</td>\n",
       "      <td>Thibodaux, LA</td>\n",
       "      <td>[worst, fear]</td>\n",
       "      <td>0</td>\n",
       "      <td>negativo</td>\n",
       "      <td>-1.0</td>\n",
       "    </tr>\n",
       "  </tbody>\n",
       "</table>\n",
       "</div>"
      ],
      "text/plain": [
       "         id              keyword                   location  \\\n",
       "426     617             arsonist                         ss   \n",
       "454     657               attack           Freeport IL. USA   \n",
       "5799   8278              rioting                        NaN   \n",
       "6672   9563              thunder        South Carolina, USA   \n",
       "3557   5083               famine              Massachusetts   \n",
       "7195  10307               weapon                        NaN   \n",
       "4849   6908      mass%20murderer                  Earth-616   \n",
       "501     726             attacked            Los Angeles, CA   \n",
       "166     241  airplane%20accident  Fashion Heaven. IG: TMId_   \n",
       "3717   5285                 fear              Thibodaux, LA   \n",
       "\n",
       "                                                   text  target  polarity  \\\n",
       "426                  [hif, trick, think, nasty, things]       0  negativo   \n",
       "454   [horrific, attack, wife, muslim, italy, livele...       1  negativo   \n",
       "5799  [aelinrhee, group, mascara, smeared, girls, ri...       1  negativo   \n",
       "6672  [worst, part, seeing, lightning, trying, guess...       0  negativo   \n",
       "3557  [russia, destroys, food, people, go, hungry, o...       1  negativo   \n",
       "7195         [abcnews, nuclear, bomb, terrible, weapon]       1  negativo   \n",
       "4849  [creelyou, must, think, im, real, moron, flag,...       0  negativo   \n",
       "501   [envw9, nickcocofree, juliedicaro, jdabe, wors...       0  negativo   \n",
       "166   [phone, looks, like, car, ship, airplane, acci...       0  negativo   \n",
       "3717                                      [worst, fear]       0  negativo   \n",
       "\n",
       "      polarity_value  \n",
       "426             -1.0  \n",
       "454             -1.0  \n",
       "5799            -1.0  \n",
       "6672            -1.0  \n",
       "3557            -1.0  \n",
       "7195            -1.0  \n",
       "4849            -1.0  \n",
       "501             -1.0  \n",
       "166             -1.0  \n",
       "3717            -1.0  "
      ]
     },
     "execution_count": 345,
     "metadata": {},
     "output_type": "execute_result"
    }
   ],
   "source": [
    "Df.sort_values(by=['polarity_value']).head(10)"
   ]
  },
  {
   "cell_type": "markdown",
   "id": "8eab9d9c",
   "metadata": {},
   "source": [
    "##### Los 10 tweets más positivos"
   ]
  },
  {
   "cell_type": "code",
   "execution_count": 346,
   "id": "a3472f74",
   "metadata": {
    "scrolled": true
   },
   "outputs": [
    {
     "data": {
      "text/html": [
       "<div>\n",
       "<style scoped>\n",
       "    .dataframe tbody tr th:only-of-type {\n",
       "        vertical-align: middle;\n",
       "    }\n",
       "\n",
       "    .dataframe tbody tr th {\n",
       "        vertical-align: top;\n",
       "    }\n",
       "\n",
       "    .dataframe thead th {\n",
       "        text-align: right;\n",
       "    }\n",
       "</style>\n",
       "<table border=\"1\" class=\"dataframe\">\n",
       "  <thead>\n",
       "    <tr style=\"text-align: right;\">\n",
       "      <th></th>\n",
       "      <th>id</th>\n",
       "      <th>keyword</th>\n",
       "      <th>location</th>\n",
       "      <th>text</th>\n",
       "      <th>target</th>\n",
       "      <th>polarity</th>\n",
       "      <th>polarity_value</th>\n",
       "    </tr>\n",
       "  </thead>\n",
       "  <tbody>\n",
       "    <tr>\n",
       "      <th>4819</th>\n",
       "      <td>6860</td>\n",
       "      <td>mass%20murder</td>\n",
       "      <td>Los Angeles</td>\n",
       "      <td>[rt, owenrbroadhurst, rt, juanmthompson, hour,...</td>\n",
       "      <td>1</td>\n",
       "      <td>positivo</td>\n",
       "      <td>1.0</td>\n",
       "    </tr>\n",
       "    <tr>\n",
       "      <th>5116</th>\n",
       "      <td>7296</td>\n",
       "      <td>nuclear%20reactor</td>\n",
       "      <td>NaN</td>\n",
       "      <td>[check, awesome, profile, ges, swimming, robot...</td>\n",
       "      <td>0</td>\n",
       "      <td>positivo</td>\n",
       "      <td>1.0</td>\n",
       "    </tr>\n",
       "    <tr>\n",
       "      <th>6660</th>\n",
       "      <td>9547</td>\n",
       "      <td>threat</td>\n",
       "      <td>NaN</td>\n",
       "      <td>[end, australias, best, burger, via, newscomauhq]</td>\n",
       "      <td>0</td>\n",
       "      <td>positivo</td>\n",
       "      <td>1.0</td>\n",
       "    </tr>\n",
       "    <tr>\n",
       "      <th>128</th>\n",
       "      <td>184</td>\n",
       "      <td>aftershock</td>\n",
       "      <td>304</td>\n",
       "      <td>[remembering, going, die, best, way, know, avo...</td>\n",
       "      <td>0</td>\n",
       "      <td>positivo</td>\n",
       "      <td>1.0</td>\n",
       "    </tr>\n",
       "    <tr>\n",
       "      <th>2046</th>\n",
       "      <td>2936</td>\n",
       "      <td>danger</td>\n",
       "      <td>Atlanta Georgia</td>\n",
       "      <td>[nuggets, fettilootch, slanglucci, oppressions...</td>\n",
       "      <td>0</td>\n",
       "      <td>positivo</td>\n",
       "      <td>1.0</td>\n",
       "    </tr>\n",
       "    <tr>\n",
       "      <th>6440</th>\n",
       "      <td>9215</td>\n",
       "      <td>suicide%20bombing</td>\n",
       "      <td>NaN</td>\n",
       "      <td>[malik, saadthe, best, police, officer, produc...</td>\n",
       "      <td>1</td>\n",
       "      <td>positivo</td>\n",
       "      <td>1.0</td>\n",
       "    </tr>\n",
       "    <tr>\n",
       "      <th>5298</th>\n",
       "      <td>7568</td>\n",
       "      <td>outbreak</td>\n",
       "      <td>Stockholm, Sweden</td>\n",
       "      <td>[senatemajldr, lets, try, best, prevent, anoth...</td>\n",
       "      <td>1</td>\n",
       "      <td>positivo</td>\n",
       "      <td>1.0</td>\n",
       "    </tr>\n",
       "    <tr>\n",
       "      <th>47</th>\n",
       "      <td>67</td>\n",
       "      <td>ablaze</td>\n",
       "      <td>NaN</td>\n",
       "      <td>[building, perfect, tracklist, life, leave, st...</td>\n",
       "      <td>0</td>\n",
       "      <td>positivo</td>\n",
       "      <td>1.0</td>\n",
       "    </tr>\n",
       "    <tr>\n",
       "      <th>413</th>\n",
       "      <td>599</td>\n",
       "      <td>arsonist</td>\n",
       "      <td>Atlanta</td>\n",
       "      <td>[nowplaying, arsonist, mc, impressed, arsonist...</td>\n",
       "      <td>0</td>\n",
       "      <td>positivo</td>\n",
       "      <td>1.0</td>\n",
       "    </tr>\n",
       "    <tr>\n",
       "      <th>6291</th>\n",
       "      <td>8987</td>\n",
       "      <td>storm</td>\n",
       "      <td>Santiago de Chile</td>\n",
       "      <td>[doves, storm, greatest, denier, electric, pro...</td>\n",
       "      <td>1</td>\n",
       "      <td>positivo</td>\n",
       "      <td>1.0</td>\n",
       "    </tr>\n",
       "  </tbody>\n",
       "</table>\n",
       "</div>"
      ],
      "text/plain": [
       "        id            keyword           location  \\\n",
       "4819  6860      mass%20murder        Los Angeles   \n",
       "5116  7296  nuclear%20reactor                NaN   \n",
       "6660  9547             threat                NaN   \n",
       "128    184         aftershock                304   \n",
       "2046  2936             danger   Atlanta Georgia    \n",
       "6440  9215  suicide%20bombing                NaN   \n",
       "5298  7568           outbreak  Stockholm, Sweden   \n",
       "47      67             ablaze                NaN   \n",
       "413    599           arsonist            Atlanta   \n",
       "6291  8987              storm  Santiago de Chile   \n",
       "\n",
       "                                                   text  target  polarity  \\\n",
       "4819  [rt, owenrbroadhurst, rt, juanmthompson, hour,...       1  positivo   \n",
       "5116  [check, awesome, profile, ges, swimming, robot...       0  positivo   \n",
       "6660  [end, australias, best, burger, via, newscomauhq]       0  positivo   \n",
       "128   [remembering, going, die, best, way, know, avo...       0  positivo   \n",
       "2046  [nuggets, fettilootch, slanglucci, oppressions...       0  positivo   \n",
       "6440  [malik, saadthe, best, police, officer, produc...       1  positivo   \n",
       "5298  [senatemajldr, lets, try, best, prevent, anoth...       1  positivo   \n",
       "47    [building, perfect, tracklist, life, leave, st...       0  positivo   \n",
       "413   [nowplaying, arsonist, mc, impressed, arsonist...       0  positivo   \n",
       "6291  [doves, storm, greatest, denier, electric, pro...       1  positivo   \n",
       "\n",
       "      polarity_value  \n",
       "4819             1.0  \n",
       "5116             1.0  \n",
       "6660             1.0  \n",
       "128              1.0  \n",
       "2046             1.0  \n",
       "6440             1.0  \n",
       "5298             1.0  \n",
       "47               1.0  \n",
       "413              1.0  \n",
       "6291             1.0  "
      ]
     },
     "execution_count": 346,
     "metadata": {},
     "output_type": "execute_result"
    }
   ],
   "source": [
    "Df.sort_values(by='polarity_value', ascending=False).head(10)"
   ]
  },
  {
   "cell_type": "markdown",
   "id": "a471b643",
   "metadata": {},
   "source": [
    "## Entrenamiento del modelo y validacion"
   ]
  },
  {
   "cell_type": "markdown",
   "id": "41111b7a",
   "metadata": {},
   "source": [
    "Retomamos el dataset df_ngrams ya que este contiene las palabras como cadenas de textos depuradas de caracterse especiales.\n",
    "Esto facilita trabajar con las opciones que ofrece Tensorflow/keras para mapear cada palabra a un numero distinto.\n"
   ]
  },
  {
   "cell_type": "code",
   "execution_count": 409,
   "id": "981f7eda",
   "metadata": {
    "scrolled": false
   },
   "outputs": [
    {
     "data": {
      "text/html": [
       "<div>\n",
       "<style scoped>\n",
       "    .dataframe tbody tr th:only-of-type {\n",
       "        vertical-align: middle;\n",
       "    }\n",
       "\n",
       "    .dataframe tbody tr th {\n",
       "        vertical-align: top;\n",
       "    }\n",
       "\n",
       "    .dataframe thead th {\n",
       "        text-align: right;\n",
       "    }\n",
       "</style>\n",
       "<table border=\"1\" class=\"dataframe\">\n",
       "  <thead>\n",
       "    <tr style=\"text-align: right;\">\n",
       "      <th></th>\n",
       "      <th>id</th>\n",
       "      <th>keyword</th>\n",
       "      <th>location</th>\n",
       "      <th>text</th>\n",
       "      <th>target</th>\n",
       "      <th>negatividad</th>\n",
       "    </tr>\n",
       "  </thead>\n",
       "  <tbody>\n",
       "    <tr>\n",
       "      <th>0</th>\n",
       "      <td>1</td>\n",
       "      <td>NaN</td>\n",
       "      <td>NaN</td>\n",
       "      <td>deeds reason earthquake may allah forgive us</td>\n",
       "      <td>1</td>\n",
       "      <td>0.0</td>\n",
       "    </tr>\n",
       "    <tr>\n",
       "      <th>1</th>\n",
       "      <td>4</td>\n",
       "      <td>NaN</td>\n",
       "      <td>NaN</td>\n",
       "      <td>forest fire near la ronge sask canada</td>\n",
       "      <td>1</td>\n",
       "      <td>0.1</td>\n",
       "    </tr>\n",
       "    <tr>\n",
       "      <th>2</th>\n",
       "      <td>5</td>\n",
       "      <td>NaN</td>\n",
       "      <td>NaN</td>\n",
       "      <td>residents asked shelter place notified officer...</td>\n",
       "      <td>1</td>\n",
       "      <td>-0.1</td>\n",
       "    </tr>\n",
       "    <tr>\n",
       "      <th>3</th>\n",
       "      <td>6</td>\n",
       "      <td>NaN</td>\n",
       "      <td>NaN</td>\n",
       "      <td>1 people receive wildfires evacuation orders c...</td>\n",
       "      <td>1</td>\n",
       "      <td>0.0</td>\n",
       "    </tr>\n",
       "    <tr>\n",
       "      <th>4</th>\n",
       "      <td>7</td>\n",
       "      <td>NaN</td>\n",
       "      <td>NaN</td>\n",
       "      <td>got sent photo ruby alaska smoke wildfires pou...</td>\n",
       "      <td>1</td>\n",
       "      <td>0.0</td>\n",
       "    </tr>\n",
       "  </tbody>\n",
       "</table>\n",
       "</div>"
      ],
      "text/plain": [
       "   id keyword location                                               text  \\\n",
       "0   1     NaN      NaN       deeds reason earthquake may allah forgive us   \n",
       "1   4     NaN      NaN              forest fire near la ronge sask canada   \n",
       "2   5     NaN      NaN  residents asked shelter place notified officer...   \n",
       "3   6     NaN      NaN  1 people receive wildfires evacuation orders c...   \n",
       "4   7     NaN      NaN  got sent photo ruby alaska smoke wildfires pou...   \n",
       "\n",
       "   target  negatividad  \n",
       "0       1          0.0  \n",
       "1       1          0.1  \n",
       "2       1         -0.1  \n",
       "3       1          0.0  \n",
       "4       1          0.0  "
      ]
     },
     "execution_count": 409,
     "metadata": {},
     "output_type": "execute_result"
    }
   ],
   "source": [
    "df_modelo.head()"
   ]
  },
  {
   "cell_type": "code",
   "execution_count": 410,
   "id": "d002d758",
   "metadata": {},
   "outputs": [
    {
     "data": {
      "text/plain": [
       "7613"
      ]
     },
     "execution_count": 410,
     "metadata": {},
     "output_type": "execute_result"
    }
   ],
   "source": [
    "len(df_modelo)"
   ]
  },
  {
   "cell_type": "markdown",
   "id": "9b67cfb4",
   "metadata": {},
   "source": [
    "Lo primero es separa los datos en los conjunto de entrenmiento, validacion y prueba"
   ]
  },
  {
   "cell_type": "code",
   "execution_count": 411,
   "id": "1e5c04e7",
   "metadata": {},
   "outputs": [],
   "source": [
    "#Preparamos el objeto que nos permitirá mapear numeros a cada token\n",
    "lista_palabras = [palabras for palabras in df_modelo['text']]\n",
    "tokenizer = Tokenizer()  #como tweeter permite un maximo de 280 palabras esta es la cantidad que elegimos por ahora\n",
    "tokenizer.fit_on_texts(lista_palabras) #Preparamos la asignacion de numeros con palabras"
   ]
  },
  {
   "cell_type": "code",
   "execution_count": 412,
   "id": "80e52edf",
   "metadata": {},
   "outputs": [],
   "source": [
    "#Preparamos los dataframes\n",
    "\n",
    "df_train=df_modelo.sample(frac=0.8,random_state=11235) #random state is a seed value\n",
    "temp = df_modelo.drop(df_train.index)\n",
    "df_test = temp.sample(frac = 0.5, random_state = 2357)\n",
    "df_val = temp.drop(df_test.index)"
   ]
  },
  {
   "cell_type": "code",
   "execution_count": null,
   "id": "1c294a6e",
   "metadata": {
    "scrolled": true
   },
   "outputs": [],
   "source": []
  },
  {
   "cell_type": "code",
   "execution_count": 413,
   "id": "f1235c47",
   "metadata": {},
   "outputs": [
    {
     "data": {
      "text/plain": [
       "7613"
      ]
     },
     "execution_count": 413,
     "metadata": {},
     "output_type": "execute_result"
    }
   ],
   "source": [
    "len(df_test) + len(df_train) + len(df_val)  #Solo chequeando que todo esté bien"
   ]
  },
  {
   "cell_type": "markdown",
   "id": "c162c90d",
   "metadata": {},
   "source": [
    "Procesamos los datos en ambos conjuntos para que esten listos para el entrenamiento y prueba del modelo"
   ]
  },
  {
   "cell_type": "code",
   "execution_count": 414,
   "id": "79076684",
   "metadata": {},
   "outputs": [],
   "source": [
    "lista_palabras_train = [palabras for palabras in df_train['text']]\n",
    "lista_palabras_val = [palabras for palabras in df_val['text']]\n",
    "lista_palabras_test = [palabras for palabras in df_test['text']]"
   ]
  },
  {
   "cell_type": "code",
   "execution_count": 415,
   "id": "056ab61a",
   "metadata": {},
   "outputs": [],
   "source": [
    "#Preparamos X_test y X_train\n",
    "\n",
    "X_train = tokenizer.texts_to_sequences(lista_palabras_train) #Asignamos cada palabra a un numero\n",
    "X_val = tokenizer.texts_to_sequences(lista_palabras_val)\n",
    "X_test = tokenizer.texts_to_sequences(lista_palabras_test) #Asignamos cada palabra a un numero"
   ]
  },
  {
   "cell_type": "code",
   "execution_count": 416,
   "id": "3d1e96c9",
   "metadata": {},
   "outputs": [
    {
     "data": {
      "text/plain": [
       "64.19374753710758"
      ]
     },
     "execution_count": 416,
     "metadata": {},
     "output_type": "execute_result"
    }
   ],
   "source": [
    "# calculamos la longitud promedio de una lista para cuando haya que aplicar padding\n",
    "\n",
    "long =[len(lista) for lista in lista_palabras]\n",
    "sum(long)/(len(lista_palabras))  #esta es la longitud promedio de una lista, usremos 75 para el padding\n",
    "    \n"
   ]
  },
  {
   "cell_type": "code",
   "execution_count": 418,
   "id": "d6335394",
   "metadata": {
    "scrolled": true
   },
   "outputs": [
    {
     "name": "stdout",
     "output_type": "stream",
     "text": [
      "Muestra X_train:  [8632, 9, 41, 2439, 1093, 51, 76, 2080, 4250, 4927, 1328]\n",
      "Muestra X_val:  [703, 496, 2630, 126, 2631, 3235, 545, 497, 115, 496, 2630, 169, 71, 169, 71, 6377, 152]\n",
      "Muestra X_test:  [733, 734, 446, 1530, 5359, 1473, 1464, 1496, 78]\n"
     ]
    }
   ],
   "source": [
    "#Revisamos el output\n",
    "print('Muestra X_train: ', X_train[1])\n",
    "print('Muestra X_val: ', X_val[2])\n",
    "print('Muestra X_test: ', X_test[3])\n",
    "\n"
   ]
  },
  {
   "cell_type": "code",
   "execution_count": 419,
   "id": "cb817478",
   "metadata": {},
   "outputs": [],
   "source": [
    "y_train = [target for target in df_train['target']] #Preparamos la lista de labels para el entrenamiento\n",
    "y_val = [target for target in df_val['target']]\n",
    "y_test = [target for target in df_test['target']]"
   ]
  },
  {
   "cell_type": "code",
   "execution_count": 420,
   "id": "07b4c5b4",
   "metadata": {},
   "outputs": [
    {
     "name": "stdout",
     "output_type": "stream",
     "text": [
      "Muestra y_train:  0\n",
      "Muestra y_val:  1\n",
      "Muestra y_test:  0\n"
     ]
    }
   ],
   "source": [
    "#Revisamos el output\n",
    "print('Muestra y_train: ', y_train[1])\n",
    "print('Muestra y_val: ', y_val[2])\n",
    "print('Muestra y_test: ', y_test[3])"
   ]
  },
  {
   "cell_type": "code",
   "execution_count": 421,
   "id": "f4532725",
   "metadata": {},
   "outputs": [
    {
     "data": {
      "text/plain": [
       "761"
      ]
     },
     "execution_count": 421,
     "metadata": {},
     "output_type": "execute_result"
    }
   ],
   "source": [
    "len(X_val)"
   ]
  },
  {
   "cell_type": "code",
   "execution_count": 422,
   "id": "8718df59",
   "metadata": {},
   "outputs": [
    {
     "data": {
      "text/plain": [
       "761"
      ]
     },
     "execution_count": 422,
     "metadata": {},
     "output_type": "execute_result"
    }
   ],
   "source": [
    "len(y_val)"
   ]
  },
  {
   "cell_type": "markdown",
   "id": "1fb80ffe",
   "metadata": {},
   "source": [
    "Todo parece estar bien con los datos. hacemos el padding y procedemos con el entrenamiento del modelo"
   ]
  },
  {
   "cell_type": "code",
   "execution_count": 423,
   "id": "e93b5165",
   "metadata": {},
   "outputs": [],
   "source": [
    "X_train = sequence.pad_sequences(X_train, maxlen = 75)\n",
    "X_val = sequence.pad_sequences(X_val, maxlen = 75)\n",
    "X_test = sequence.pad_sequences(X_test, maxlen = 75)"
   ]
  },
  {
   "cell_type": "code",
   "execution_count": 424,
   "id": "9f86b7a2",
   "metadata": {},
   "outputs": [],
   "source": [
    "#Solo estandarizando los formatos para que sean compatibles\n",
    "\n",
    "y_train = np.array(y_train, dtype='int64')\n",
    "y_val = np.array(y_val, dtype='int64')\n",
    "y_test = np.array(y_test, dtype='int64')"
   ]
  },
  {
   "cell_type": "code",
   "execution_count": 425,
   "id": "01e0524a",
   "metadata": {
    "scrolled": true
   },
   "outputs": [
    {
     "data": {
      "text/plain": [
       "array([1, 1, 1, 0, 0], dtype=int64)"
      ]
     },
     "execution_count": 425,
     "metadata": {},
     "output_type": "execute_result"
    }
   ],
   "source": [
    "y_val[:5]  #Formato ok!"
   ]
  },
  {
   "cell_type": "markdown",
   "id": "2cce9d95",
   "metadata": {},
   "source": [
    "Preparamos el modelo de la misma manera que el ejemplo revisado en clase, esto debido a que este tambien es un problema de clasificacion bienaria, recordemos que el enucniado del laboratorio estipula que el objetivo es clasificar los tweets dependiendo si se refieren a un incidente real o no. Si es necesario se ajustaran los hiperparametrso mas tarde\n"
   ]
  },
  {
   "cell_type": "code",
   "execution_count": 426,
   "id": "6039f62f",
   "metadata": {},
   "outputs": [],
   "source": [
    "#Preparamos el modelo con su capa de activacion\n",
    "\n",
    "modelo = Sequential()\n",
    "modelo.add(Embedding(20000, 128))\n",
    "modelo.add(LSTM(128, dropout=0.2, recurrent_dropout=0.2))\n",
    "modelo.add(Dense(1, activation='sigmoid'))"
   ]
  },
  {
   "cell_type": "code",
   "execution_count": 427,
   "id": "ee2407de",
   "metadata": {},
   "outputs": [],
   "source": [
    "#compilamos el modelo\n",
    "\n",
    "modelo.compile(loss='binary_crossentropy',\n",
    "              optimizer='adam',\n",
    "              metrics=['accuracy'])"
   ]
  },
  {
   "cell_type": "code",
   "execution_count": 428,
   "id": "8a9cfec3",
   "metadata": {
    "scrolled": true
   },
   "outputs": [
    {
     "name": "stdout",
     "output_type": "stream",
     "text": [
      "Epoch 1/10\n",
      "381/381 - 80s - loss: 0.5198 - accuracy: 0.7440 - val_loss: 0.4563 - val_accuracy: 0.7911 - 80s/epoch - 210ms/step\n",
      "Epoch 2/10\n",
      "381/381 - 77s - loss: 0.2704 - accuracy: 0.8915 - val_loss: 0.5263 - val_accuracy: 0.7858 - 77s/epoch - 202ms/step\n",
      "Epoch 3/10\n",
      "381/381 - 70s - loss: 0.1360 - accuracy: 0.9473 - val_loss: 0.5715 - val_accuracy: 0.7661 - 70s/epoch - 183ms/step\n",
      "Epoch 4/10\n",
      "381/381 - 70s - loss: 0.0802 - accuracy: 0.9696 - val_loss: 0.7216 - val_accuracy: 0.7661 - 70s/epoch - 184ms/step\n",
      "Epoch 5/10\n",
      "381/381 - 71s - loss: 0.0572 - accuracy: 0.9747 - val_loss: 0.7324 - val_accuracy: 0.7595 - 71s/epoch - 185ms/step\n",
      "Epoch 6/10\n",
      "381/381 - 71s - loss: 0.0410 - accuracy: 0.9818 - val_loss: 0.9986 - val_accuracy: 0.7438 - 71s/epoch - 187ms/step\n",
      "Epoch 7/10\n",
      "381/381 - 69s - loss: 0.0420 - accuracy: 0.9814 - val_loss: 0.8637 - val_accuracy: 0.7543 - 69s/epoch - 182ms/step\n",
      "Epoch 8/10\n",
      "381/381 - 70s - loss: 0.0338 - accuracy: 0.9837 - val_loss: 1.0904 - val_accuracy: 0.7346 - 70s/epoch - 183ms/step\n",
      "Epoch 9/10\n",
      "381/381 - 70s - loss: 0.0284 - accuracy: 0.9865 - val_loss: 1.0738 - val_accuracy: 0.7516 - 70s/epoch - 183ms/step\n",
      "Epoch 10/10\n",
      "381/381 - 70s - loss: 0.0290 - accuracy: 0.9856 - val_loss: 1.0663 - val_accuracy: 0.7569 - 70s/epoch - 184ms/step\n"
     ]
    },
    {
     "data": {
      "text/plain": [
       "<keras.callbacks.History at 0x240daab3bb0>"
      ]
     },
     "execution_count": 428,
     "metadata": {},
     "output_type": "execute_result"
    }
   ],
   "source": [
    "modelo.fit(X_train, y_train,\n",
    "          batch_size=16,\n",
    "          epochs=10,\n",
    "          verbose=2,\n",
    "          validation_data=(X_val, y_val))"
   ]
  },
  {
   "cell_type": "markdown",
   "id": "16aa6925",
   "metadata": {},
   "source": [
    "Listo! Ya se entreno el modelo, ahora obtenems las metricas correspondientes al modelo respecto al conjunto de prueba"
   ]
  },
  {
   "cell_type": "code",
   "execution_count": 429,
   "id": "b04b2d8f",
   "metadata": {},
   "outputs": [
    {
     "name": "stdout",
     "output_type": "stream",
     "text": [
      "12/12 - 0s - loss: 1.0913 - accuracy: 0.7769 - 395ms/epoch - 33ms/step\n",
      "Pérdida total: 1.0912870168685913\n",
      "Exactitud : 0.7769029140472412\n"
     ]
    }
   ],
   "source": [
    "perdida, exactitud = modelo.evaluate(X_test, y_test,\n",
    "                            batch_size=64,\n",
    "                            verbose=2)\n",
    "\n",
    "print('Pérdida total:', perdida)\n",
    "print('Exactitud :', exactitud)"
   ]
  },
  {
   "cell_type": "markdown",
   "id": "c1cbe20f",
   "metadata": {},
   "source": [
    "## Repitiendo el experimento/entrenamiento, esta vez incluyendo la variable numerica \"polarity\" creada anteriormente"
   ]
  },
  {
   "cell_type": "code",
   "execution_count": 497,
   "id": "8f663318",
   "metadata": {},
   "outputs": [
    {
     "data": {
      "text/html": [
       "<div>\n",
       "<style scoped>\n",
       "    .dataframe tbody tr th:only-of-type {\n",
       "        vertical-align: middle;\n",
       "    }\n",
       "\n",
       "    .dataframe tbody tr th {\n",
       "        vertical-align: top;\n",
       "    }\n",
       "\n",
       "    .dataframe thead th {\n",
       "        text-align: right;\n",
       "    }\n",
       "</style>\n",
       "<table border=\"1\" class=\"dataframe\">\n",
       "  <thead>\n",
       "    <tr style=\"text-align: right;\">\n",
       "      <th></th>\n",
       "      <th>id</th>\n",
       "      <th>keyword</th>\n",
       "      <th>location</th>\n",
       "      <th>text</th>\n",
       "      <th>target</th>\n",
       "      <th>negatividad</th>\n",
       "    </tr>\n",
       "  </thead>\n",
       "  <tbody>\n",
       "    <tr>\n",
       "      <th>0</th>\n",
       "      <td>1</td>\n",
       "      <td>NaN</td>\n",
       "      <td>NaN</td>\n",
       "      <td>deeds reason earthquake may allah forgive us</td>\n",
       "      <td>1</td>\n",
       "      <td>0.0</td>\n",
       "    </tr>\n",
       "    <tr>\n",
       "      <th>1</th>\n",
       "      <td>4</td>\n",
       "      <td>NaN</td>\n",
       "      <td>NaN</td>\n",
       "      <td>forest fire near la ronge sask canada</td>\n",
       "      <td>1</td>\n",
       "      <td>0.1</td>\n",
       "    </tr>\n",
       "    <tr>\n",
       "      <th>2</th>\n",
       "      <td>5</td>\n",
       "      <td>NaN</td>\n",
       "      <td>NaN</td>\n",
       "      <td>residents asked shelter place notified officer...</td>\n",
       "      <td>1</td>\n",
       "      <td>-0.1</td>\n",
       "    </tr>\n",
       "    <tr>\n",
       "      <th>3</th>\n",
       "      <td>6</td>\n",
       "      <td>NaN</td>\n",
       "      <td>NaN</td>\n",
       "      <td>1 people receive wildfires evacuation orders c...</td>\n",
       "      <td>1</td>\n",
       "      <td>0.0</td>\n",
       "    </tr>\n",
       "    <tr>\n",
       "      <th>4</th>\n",
       "      <td>7</td>\n",
       "      <td>NaN</td>\n",
       "      <td>NaN</td>\n",
       "      <td>got sent photo ruby alaska smoke wildfires pou...</td>\n",
       "      <td>1</td>\n",
       "      <td>0.0</td>\n",
       "    </tr>\n",
       "  </tbody>\n",
       "</table>\n",
       "</div>"
      ],
      "text/plain": [
       "   id keyword location                                               text  \\\n",
       "0   1     NaN      NaN       deeds reason earthquake may allah forgive us   \n",
       "1   4     NaN      NaN              forest fire near la ronge sask canada   \n",
       "2   5     NaN      NaN  residents asked shelter place notified officer...   \n",
       "3   6     NaN      NaN  1 people receive wildfires evacuation orders c...   \n",
       "4   7     NaN      NaN  got sent photo ruby alaska smoke wildfires pou...   \n",
       "\n",
       "   target  negatividad  \n",
       "0       1          0.0  \n",
       "1       1          0.1  \n",
       "2       1         -0.1  \n",
       "3       1          0.0  \n",
       "4       1          0.0  "
      ]
     },
     "execution_count": 497,
     "metadata": {},
     "output_type": "execute_result"
    }
   ],
   "source": [
    "df_modelo.head()"
   ]
  },
  {
   "cell_type": "code",
   "execution_count": 498,
   "id": "6a30e67e",
   "metadata": {},
   "outputs": [],
   "source": [
    "df_modelo['negatividad'] = Df['polarity_value']  #agregamos la negatividad del tweet"
   ]
  },
  {
   "cell_type": "code",
   "execution_count": 499,
   "id": "31d927b8",
   "metadata": {},
   "outputs": [
    {
     "data": {
      "text/html": [
       "<div>\n",
       "<style scoped>\n",
       "    .dataframe tbody tr th:only-of-type {\n",
       "        vertical-align: middle;\n",
       "    }\n",
       "\n",
       "    .dataframe tbody tr th {\n",
       "        vertical-align: top;\n",
       "    }\n",
       "\n",
       "    .dataframe thead th {\n",
       "        text-align: right;\n",
       "    }\n",
       "</style>\n",
       "<table border=\"1\" class=\"dataframe\">\n",
       "  <thead>\n",
       "    <tr style=\"text-align: right;\">\n",
       "      <th></th>\n",
       "      <th>id</th>\n",
       "      <th>keyword</th>\n",
       "      <th>location</th>\n",
       "      <th>text</th>\n",
       "      <th>target</th>\n",
       "      <th>negatividad</th>\n",
       "    </tr>\n",
       "  </thead>\n",
       "  <tbody>\n",
       "    <tr>\n",
       "      <th>0</th>\n",
       "      <td>1</td>\n",
       "      <td>NaN</td>\n",
       "      <td>NaN</td>\n",
       "      <td>deeds reason earthquake may allah forgive us</td>\n",
       "      <td>1</td>\n",
       "      <td>0.0</td>\n",
       "    </tr>\n",
       "    <tr>\n",
       "      <th>1</th>\n",
       "      <td>4</td>\n",
       "      <td>NaN</td>\n",
       "      <td>NaN</td>\n",
       "      <td>forest fire near la ronge sask canada</td>\n",
       "      <td>1</td>\n",
       "      <td>0.1</td>\n",
       "    </tr>\n",
       "    <tr>\n",
       "      <th>2</th>\n",
       "      <td>5</td>\n",
       "      <td>NaN</td>\n",
       "      <td>NaN</td>\n",
       "      <td>residents asked shelter place notified officer...</td>\n",
       "      <td>1</td>\n",
       "      <td>-0.1</td>\n",
       "    </tr>\n",
       "    <tr>\n",
       "      <th>3</th>\n",
       "      <td>6</td>\n",
       "      <td>NaN</td>\n",
       "      <td>NaN</td>\n",
       "      <td>1 people receive wildfires evacuation orders c...</td>\n",
       "      <td>1</td>\n",
       "      <td>0.0</td>\n",
       "    </tr>\n",
       "    <tr>\n",
       "      <th>4</th>\n",
       "      <td>7</td>\n",
       "      <td>NaN</td>\n",
       "      <td>NaN</td>\n",
       "      <td>got sent photo ruby alaska smoke wildfires pou...</td>\n",
       "      <td>1</td>\n",
       "      <td>0.0</td>\n",
       "    </tr>\n",
       "  </tbody>\n",
       "</table>\n",
       "</div>"
      ],
      "text/plain": [
       "   id keyword location                                               text  \\\n",
       "0   1     NaN      NaN       deeds reason earthquake may allah forgive us   \n",
       "1   4     NaN      NaN              forest fire near la ronge sask canada   \n",
       "2   5     NaN      NaN  residents asked shelter place notified officer...   \n",
       "3   6     NaN      NaN  1 people receive wildfires evacuation orders c...   \n",
       "4   7     NaN      NaN  got sent photo ruby alaska smoke wildfires pou...   \n",
       "\n",
       "   target  negatividad  \n",
       "0       1          0.0  \n",
       "1       1          0.1  \n",
       "2       1         -0.1  \n",
       "3       1          0.0  \n",
       "4       1          0.0  "
      ]
     },
     "execution_count": 499,
     "metadata": {},
     "output_type": "execute_result"
    }
   ],
   "source": [
    "df_modelo.head()"
   ]
  },
  {
   "cell_type": "code",
   "execution_count": 500,
   "id": "d7a2de6f",
   "metadata": {},
   "outputs": [],
   "source": [
    "#Preparamos el objeto que nos permitirá mapear numeros a cada token\n",
    "lista_palabras = [palabras for palabras in df_modelo['text']]\n",
    "tokenizer = Tokenizer()  #como tweeter permite un maximo de 280 palabras esta es la cantidad que elegimos por ahora\n",
    "tokenizer.fit_on_texts(lista_palabras) #Preparamos la asignacion de numeros con palabras"
   ]
  },
  {
   "cell_type": "code",
   "execution_count": 501,
   "id": "3606a110",
   "metadata": {},
   "outputs": [],
   "source": [
    "#Preparamos los dataframes\n",
    "\n",
    "df_train=df_modelo.sample(frac=0.8,random_state=11235) #random state is a seed value\n",
    "temp = df_modelo.drop(df_train.index)\n",
    "df_test = temp.sample(frac = 0.5, random_state = 2357)\n",
    "df_val = temp.drop(df_test.index)"
   ]
  },
  {
   "cell_type": "code",
   "execution_count": 502,
   "id": "d145bd34",
   "metadata": {},
   "outputs": [],
   "source": [
    "#resetear los indices de los df\n",
    "df_train = df_train.reset_index(drop=True)\n",
    "df_val = df_val.reset_index(drop=True)\n",
    "df_test = df_test.reset_index(drop=True)"
   ]
  },
  {
   "cell_type": "code",
   "execution_count": 503,
   "id": "6df13a11",
   "metadata": {},
   "outputs": [],
   "source": [
    "lista_palabras_train = [palabras for palabras in df_train['text']]\n",
    "lista_palabras_val = [palabras for palabras in df_val['text']]\n",
    "lista_palabras_test = [palabras for palabras in df_test['text']]"
   ]
  },
  {
   "cell_type": "code",
   "execution_count": 504,
   "id": "24b18536",
   "metadata": {},
   "outputs": [],
   "source": [
    "#Preparamos X_test X_val, y X_test\n",
    "\n",
    "X_train = tokenizer.texts_to_sequences(lista_palabras_train) #Asignamos cada palabra a un numero\n",
    "X_val = tokenizer.texts_to_sequences(lista_palabras_val)\n",
    "X_test = tokenizer.texts_to_sequences(lista_palabras_test) #Asignamos cada palabra a un numero"
   ]
  },
  {
   "cell_type": "code",
   "execution_count": 505,
   "id": "c5a19d9d",
   "metadata": {},
   "outputs": [],
   "source": [
    "y_train = [target for target in df_train['target']] #Preparamos la lista de labels para el entrenamiento\n",
    "y_val = [target for target in df_val['target']]\n",
    "y_test = [target for target in df_test['target']]"
   ]
  },
  {
   "cell_type": "code",
   "execution_count": 506,
   "id": "b29b0168",
   "metadata": {},
   "outputs": [
    {
     "data": {
      "text/plain": [
       "6090"
      ]
     },
     "execution_count": 506,
     "metadata": {},
     "output_type": "execute_result"
    }
   ],
   "source": [
    "len(X_train)"
   ]
  },
  {
   "cell_type": "markdown",
   "id": "764e83ad",
   "metadata": {},
   "source": [
    "Hasta ahora todo ha sido casi igual al caso anterior, ahora agregamos la negatividad a cada lista de datos:"
   ]
  },
  {
   "cell_type": "code",
   "execution_count": 507,
   "id": "e6eb66ac",
   "metadata": {},
   "outputs": [],
   "source": [
    "#agergando la 'negatividad' al conjunto\n",
    "\n",
    "for i in range(0,len(X_train)):\n",
    "    X_train[i].append(-df_train.loc[i, 'negatividad'] if df_train.loc[i, 'negatividad'] < 0 else 0)\n",
    "    \n",
    "for i in range(0,len(X_val)):\n",
    "    X_val[i].append(-df_val.loc[i, 'negatividad'] if df_val.loc[i, 'negatividad'] < 0 else 0)\n",
    "    \n",
    "for i in range(0, len(X_test)):\n",
    "    X_test[i].append(-df_test.loc[i, 'negatividad'] if df_test.loc[i, 'negatividad'] < 0 else 0)\n",
    "\n"
   ]
  },
  {
   "cell_type": "code",
   "execution_count": 508,
   "id": "1968a134",
   "metadata": {},
   "outputs": [
    {
     "data": {
      "text/plain": [
       "[16778, 4050, 2328, 16779, 16780, 16781, 305, 16782, 16783, 16784, 0]"
      ]
     },
     "execution_count": 508,
     "metadata": {},
     "output_type": "execute_result"
    }
   ],
   "source": [
    "X_train[45] #todo listo!"
   ]
  },
  {
   "cell_type": "markdown",
   "id": "4f2b93c3",
   "metadata": {},
   "source": [
    "Los datos estan listos, ahora reentrenamos el modelo igual que en el caso anterior poor propositos de comparacion"
   ]
  },
  {
   "cell_type": "code",
   "execution_count": 509,
   "id": "83d5ed7f",
   "metadata": {},
   "outputs": [],
   "source": [
    "X_train = sequence.pad_sequences(X_train, maxlen = 75)\n",
    "X_val = sequence.pad_sequences(X_val, maxlen = 75)\n",
    "X_test = sequence.pad_sequences(X_test, maxlen = 75)"
   ]
  },
  {
   "cell_type": "code",
   "execution_count": 510,
   "id": "ba195fa1",
   "metadata": {},
   "outputs": [],
   "source": [
    "#Solo estandarizando los formatos para que sean compatibles\n",
    "\n",
    "y_train = np.array(y_train, dtype='int64')\n",
    "y_val = np.array(y_val, dtype='int64')\n",
    "y_test = np.array(y_test, dtype='int64')"
   ]
  },
  {
   "cell_type": "code",
   "execution_count": 511,
   "id": "b9743efa",
   "metadata": {},
   "outputs": [
    {
     "data": {
      "text/plain": [
       "(762, 75)"
      ]
     },
     "execution_count": 511,
     "metadata": {},
     "output_type": "execute_result"
    }
   ],
   "source": [
    "X_test.shape"
   ]
  },
  {
   "cell_type": "code",
   "execution_count": 512,
   "id": "e2706017",
   "metadata": {},
   "outputs": [
    {
     "data": {
      "text/plain": [
       "(761,)"
      ]
     },
     "execution_count": 512,
     "metadata": {},
     "output_type": "execute_result"
    }
   ],
   "source": [
    "y_val.shape"
   ]
  },
  {
   "cell_type": "code",
   "execution_count": 513,
   "id": "6c0cdc97",
   "metadata": {},
   "outputs": [],
   "source": [
    "#Preparamos el modelo con su capa de activacion\n",
    "\n",
    "modelo = Sequential()\n",
    "modelo.add(Embedding(20000, 128))\n",
    "modelo.add(LSTM(128, dropout=0.2, recurrent_dropout=0.2))\n",
    "modelo.add(Dense(1, activation='sigmoid'))"
   ]
  },
  {
   "cell_type": "code",
   "execution_count": 514,
   "id": "da6439f0",
   "metadata": {},
   "outputs": [],
   "source": [
    "#compilamos el modelo\n",
    "\n",
    "modelo.compile(loss='binary_crossentropy',\n",
    "              optimizer='adam',\n",
    "              metrics=['accuracy'])"
   ]
  },
  {
   "cell_type": "code",
   "execution_count": 515,
   "id": "08331d13",
   "metadata": {},
   "outputs": [
    {
     "name": "stdout",
     "output_type": "stream",
     "text": [
      "Epoch 1/10\n",
      "381/381 - 73s - loss: 0.5235 - accuracy: 0.7391 - val_loss: 0.4749 - val_accuracy: 0.7845 - 73s/epoch - 193ms/step\n",
      "Epoch 2/10\n",
      "381/381 - 69s - loss: 0.2806 - accuracy: 0.8865 - val_loss: 0.4913 - val_accuracy: 0.7819 - 69s/epoch - 181ms/step\n",
      "Epoch 3/10\n",
      "381/381 - 69s - loss: 0.1440 - accuracy: 0.9479 - val_loss: 0.6551 - val_accuracy: 0.7687 - 69s/epoch - 181ms/step\n",
      "Epoch 4/10\n",
      "381/381 - 69s - loss: 0.0937 - accuracy: 0.9655 - val_loss: 0.7495 - val_accuracy: 0.7648 - 69s/epoch - 181ms/step\n",
      "Epoch 5/10\n",
      "381/381 - 69s - loss: 0.0648 - accuracy: 0.9742 - val_loss: 0.7852 - val_accuracy: 0.7556 - 69s/epoch - 181ms/step\n",
      "Epoch 6/10\n",
      "381/381 - 69s - loss: 0.0490 - accuracy: 0.9795 - val_loss: 1.0370 - val_accuracy: 0.7464 - 69s/epoch - 181ms/step\n",
      "Epoch 7/10\n",
      "381/381 - 69s - loss: 0.0424 - accuracy: 0.9814 - val_loss: 0.8968 - val_accuracy: 0.7582 - 69s/epoch - 181ms/step\n",
      "Epoch 8/10\n",
      "381/381 - 69s - loss: 0.0336 - accuracy: 0.9831 - val_loss: 1.3074 - val_accuracy: 0.7569 - 69s/epoch - 181ms/step\n",
      "Epoch 9/10\n",
      "381/381 - 69s - loss: 0.0297 - accuracy: 0.9841 - val_loss: 1.2490 - val_accuracy: 0.7622 - 69s/epoch - 182ms/step\n",
      "Epoch 10/10\n",
      "381/381 - 69s - loss: 0.0315 - accuracy: 0.9847 - val_loss: 1.1585 - val_accuracy: 0.7477 - 69s/epoch - 181ms/step\n"
     ]
    },
    {
     "data": {
      "text/plain": [
       "<keras.callbacks.History at 0x240eff33f10>"
      ]
     },
     "execution_count": 515,
     "metadata": {},
     "output_type": "execute_result"
    }
   ],
   "source": [
    "modelo.fit(X_train, y_train,\n",
    "          batch_size=16,\n",
    "          epochs=10,\n",
    "          verbose=2,\n",
    "          validation_data=(X_val, y_val))"
   ]
  },
  {
   "cell_type": "code",
   "execution_count": 516,
   "id": "56a7c1c1",
   "metadata": {},
   "outputs": [
    {
     "name": "stdout",
     "output_type": "stream",
     "text": [
      "12/12 - 0s - loss: 1.0771 - accuracy: 0.7638 - 392ms/epoch - 33ms/step\n",
      "Pérdida total: 1.0771321058273315\n",
      "Exactitud : 0.7637795209884644\n"
     ]
    }
   ],
   "source": [
    "perdida, exactitud = modelo.evaluate(X_test, y_test,\n",
    "                            batch_size=64,\n",
    "                            verbose=2)\n",
    "\n",
    "print('Pérdida total:', perdida)\n",
    "print('Exactitud :', exactitud)"
   ]
  },
  {
   "cell_type": "code",
   "execution_count": null,
   "id": "b7b09af0",
   "metadata": {},
   "outputs": [],
   "source": []
  },
  {
   "cell_type": "code",
   "execution_count": null,
   "id": "7ac86b69",
   "metadata": {},
   "outputs": [],
   "source": []
  },
  {
   "cell_type": "code",
   "execution_count": null,
   "id": "af86d84a",
   "metadata": {},
   "outputs": [],
   "source": []
  }
 ],
 "metadata": {
  "kernelspec": {
   "display_name": "Python 3.9 (tensorflow)",
   "language": "python",
   "name": "tensorflow"
  },
  "language_info": {
   "codemirror_mode": {
    "name": "ipython",
    "version": 3
   },
   "file_extension": ".py",
   "mimetype": "text/x-python",
   "name": "python",
   "nbconvert_exporter": "python",
   "pygments_lexer": "ipython3",
   "version": "3.9.12"
  },
  "vscode": {
   "interpreter": {
    "hash": "9650cb4e16cdd4a8e8e2d128bf38d875813998db22a3c986335f89e0cb4d7bb2"
   }
  }
 },
 "nbformat": 4,
 "nbformat_minor": 5
}
